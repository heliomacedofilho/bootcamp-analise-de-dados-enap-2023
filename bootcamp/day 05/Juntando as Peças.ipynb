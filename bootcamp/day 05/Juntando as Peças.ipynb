{
 "cells": [
  {
   "cell_type": "markdown",
   "id": "3232bfff-9aeb-4256-ab92-07e6692b11d0",
   "metadata": {
    "slideshow": {
     "slide_type": "slide"
    },
    "tags": []
   },
   "source": [
    "# Juntando as Peças 🧩"
   ]
  },
  {
   "cell_type": "markdown",
   "id": "48da4c41-ba67-4928-9383-0390fb3a6539",
   "metadata": {
    "slideshow": {
     "slide_type": "subslide"
    }
   },
   "source": [
    "## Raspagem de Dados ✂️"
   ]
  },
  {
   "cell_type": "markdown",
   "id": "26bc19b5-1920-4f51-9a85-dc8cfb637357",
   "metadata": {},
   "source": [
    "### Características dos Estados"
   ]
  },
  {
   "cell_type": "markdown",
   "id": "6ab8b42a-eaa3-42ec-9af7-dde60adbfa0b",
   "metadata": {},
   "source": [
    "<pre>Vamos baixar os dados das características dos estados para o nosso sistema de arquivos... nós os utilizaremos no decorrer das aulas!</pre>"
   ]
  },
  {
   "cell_type": "markdown",
   "id": "224d0cc5-f337-41b6-aa9d-c35b2d1aed63",
   "metadata": {},
   "source": [
    "👉 dados de <a href='https://www.ibge.gov.br/cidades-e-estados/'>características dos estados brasileiros</a>"
   ]
  },
  {
   "cell_type": "markdown",
   "id": "a367af93-d4af-4cab-964d-033d29382c27",
   "metadata": {
    "slideshow": {
     "slide_type": "skip"
    }
   },
   "source": [
    "#### Funções Auxiliares"
   ]
  },
  {
   "cell_type": "code",
   "execution_count": 1,
   "id": "df6f6c20-6622-437e-98bf-eb48dbaa7f02",
   "metadata": {
    "slideshow": {
     "slide_type": "-"
    }
   },
   "outputs": [],
   "source": [
    "import os, json, requests\n",
    "from bs4 import BeautifulSoup\n",
    "import requests, urllib3, ssl\n",
    "\n",
    "def build_path(subfolder = 'raw'):\n",
    "    folderpath = os.path.join(os.getcwd(), os.pardir, \n",
    "                              'project', 'data', subfolder)\n",
    "    folderpath = os.path.abspath(folderpath)\n",
    "    if not os.path.exists(folderpath): os.makedirs(folderpath)\n",
    "    return folderpath\n",
    "\n",
    "\"\"\"\n",
    "workaround para contornar a exceção: \\\n",
    "    SSLError: [SSL: UNSAFE_LEGACY_RENEGOTIATION_DISABLED] \\\n",
    "    unsafe legacy renegotiation disabled (_ssl.c:997)\n",
    "\n",
    "é possível considerando que estamos tratando apenas de dados públicos\n",
    "\"\"\"\n",
    "\n",
    "class CustomHttpAdapter (requests.adapters.HTTPAdapter):\n",
    "    def __init__(self, ssl_context=None, **kwargs):\n",
    "        self.ssl_context = ssl_context\n",
    "        super().__init__(**kwargs)\n",
    "    def init_poolmanager(self, connections, maxsize, block=False):\n",
    "        self.poolmanager = urllib3.poolmanager.PoolManager(\n",
    "            num_pools=connections, maxsize=maxsize,\n",
    "            block=block, ssl_context=self.ssl_context)\n",
    "\n",
    "def get_legacy_session():\n",
    "    ctx = ssl.create_default_context(ssl.Purpose.SERVER_AUTH)\n",
    "    ctx.options |= 0x4  # OP_LEGACY_SERVER_CONNECT\n",
    "    session = requests.session()\n",
    "    session.mount('https://', CustomHttpAdapter(ctx))\n",
    "    return session\n",
    "\n",
    "def scrape_from_internet(url, lower_state):\n",
    "    URL_STATE = f'{url}/{lower_state}.html'\n",
    "    try:\n",
    "        response = requests.get(f'{URL_STATE}')\n",
    "    except requests.exceptions.SSLError:\n",
    "        response = get_legacy_session().get(f'{URL_STATE}')\n",
    "    return response.content\n",
    "\n",
    "def html_indicators(content):\n",
    "    indicators_soup = BeautifulSoup(content, 'html.parser')\n",
    "    all_indicators = indicators_soup.find_all('div', \n",
    "                                              class_='indicador')\n",
    "    return all_indicators\n",
    "\n",
    "def parse_indicator(indicator):\n",
    "    label = indicator.find('div', class_='ind-label')\n",
    "    value = indicator.find('p', class_='ind-value').get_text(strip=False)\n",
    "    measure = indicator.find('span', class_='indicador-unidade')\n",
    "    measure = measure.get_text(strip=True) if measure else '\\xa0'\n",
    "\n",
    "    return {'label': label.get_text(strip=True), \\\n",
    "            'value': [x.strip() for x in value.split(measure)][0], \\\n",
    "            'measure': measure.strip()}\n",
    "\n",
    "def parse_indicators(all_indicators):\n",
    "    list_of_indicators = []\n",
    "\n",
    "    for indicator in all_indicators:\n",
    "        list_of_indicators.append(parse_indicator(indicator))\n",
    "        \n",
    "    return list_of_indicators\n",
    "\n",
    "def parse_page(url, lower_state):\n",
    "    content = scrape_from_internet(url, lower_state)\n",
    "    all_indicators = html_indicators(content)\n",
    "    return parse_indicators(all_indicators)\n",
    "\n",
    "def access_pages_and_save(url, input_filename, output_filename):\n",
    "\n",
    "    folderpath = build_path()\n",
    "    inputpath = os.path.join(folderpath, input_filename)\n",
    "\n",
    "    lower_states = []\n",
    "    with open(inputpath) as jsonfile:\n",
    "        json_states = json.load(jsonfile)\n",
    "        for json_state in json_states:\n",
    "            lower_state = json_state['sigla'].lower()\n",
    "            lower_states.append(lower_state)        \n",
    "\n",
    "    json_states_characteristics = []\n",
    "    for lower_state in lower_states:\n",
    "        json_states_characteristics.append(\\\n",
    "            {'state': lower_state,\\\n",
    "             'characteristics': parse_page(url, lower_state)})\n",
    "\n",
    "    outputpath = os.path.join(folderpath, output_filename)\n",
    "    with open(outputpath, mode='w') as jsonfile:\n",
    "        json.dump(json_states_characteristics, jsonfile)"
   ]
  },
  {
   "cell_type": "markdown",
   "id": "19a4fa97",
   "metadata": {
    "slideshow": {
     "slide_type": "subslide"
    }
   },
   "source": [
    "#### Código"
   ]
  },
  {
   "cell_type": "code",
   "execution_count": 2,
   "id": "6645c312-f88b-46f4-8075-830564d56d3d",
   "metadata": {
    "slideshow": {
     "slide_type": "-"
    }
   },
   "outputs": [
    {
     "ename": "ConnectTimeout",
     "evalue": "HTTPSConnectionPool(host='ibge.gov.br', port=443): Max retries exceeded with url: /cidades-e-estados/to.html (Caused by ConnectTimeoutError(<urllib3.connection.HTTPSConnection object at 0x0000013F08685010>, 'Connection to ibge.gov.br timed out. (connect timeout=None)'))",
     "output_type": "error",
     "traceback": [
      "\u001b[1;31m---------------------------------------------------------------------------\u001b[0m",
      "\u001b[1;31mSSLError\u001b[0m                                  Traceback (most recent call last)",
      "File \u001b[1;32mc:\\Users\\lilia\\AppData\\Local\\Programs\\Python\\Python311\\Lib\\site-packages\\urllib3\\connectionpool.py:714\u001b[0m, in \u001b[0;36mHTTPConnectionPool.urlopen\u001b[1;34m(self, method, url, body, headers, retries, redirect, assert_same_host, timeout, pool_timeout, release_conn, chunked, body_pos, **response_kw)\u001b[0m\n\u001b[0;32m    713\u001b[0m \u001b[39m# Make the request on the httplib connection object.\u001b[39;00m\n\u001b[1;32m--> 714\u001b[0m httplib_response \u001b[39m=\u001b[39m \u001b[39mself\u001b[39;49m\u001b[39m.\u001b[39;49m_make_request(\n\u001b[0;32m    715\u001b[0m     conn,\n\u001b[0;32m    716\u001b[0m     method,\n\u001b[0;32m    717\u001b[0m     url,\n\u001b[0;32m    718\u001b[0m     timeout\u001b[39m=\u001b[39;49mtimeout_obj,\n\u001b[0;32m    719\u001b[0m     body\u001b[39m=\u001b[39;49mbody,\n\u001b[0;32m    720\u001b[0m     headers\u001b[39m=\u001b[39;49mheaders,\n\u001b[0;32m    721\u001b[0m     chunked\u001b[39m=\u001b[39;49mchunked,\n\u001b[0;32m    722\u001b[0m )\n\u001b[0;32m    724\u001b[0m \u001b[39m# If we're going to release the connection in ``finally:``, then\u001b[39;00m\n\u001b[0;32m    725\u001b[0m \u001b[39m# the response doesn't need to know about the connection. Otherwise\u001b[39;00m\n\u001b[0;32m    726\u001b[0m \u001b[39m# it will also try to release it and we'll have a double-release\u001b[39;00m\n\u001b[0;32m    727\u001b[0m \u001b[39m# mess.\u001b[39;00m\n",
      "File \u001b[1;32mc:\\Users\\lilia\\AppData\\Local\\Programs\\Python\\Python311\\Lib\\site-packages\\urllib3\\connectionpool.py:403\u001b[0m, in \u001b[0;36mHTTPConnectionPool._make_request\u001b[1;34m(self, conn, method, url, timeout, chunked, **httplib_request_kw)\u001b[0m\n\u001b[0;32m    402\u001b[0m \u001b[39mtry\u001b[39;00m:\n\u001b[1;32m--> 403\u001b[0m     \u001b[39mself\u001b[39;49m\u001b[39m.\u001b[39;49m_validate_conn(conn)\n\u001b[0;32m    404\u001b[0m \u001b[39mexcept\u001b[39;00m (SocketTimeout, BaseSSLError) \u001b[39mas\u001b[39;00m e:\n\u001b[0;32m    405\u001b[0m     \u001b[39m# Py2 raises this as a BaseSSLError, Py3 raises it as socket timeout.\u001b[39;00m\n",
      "File \u001b[1;32mc:\\Users\\lilia\\AppData\\Local\\Programs\\Python\\Python311\\Lib\\site-packages\\urllib3\\connectionpool.py:1053\u001b[0m, in \u001b[0;36mHTTPSConnectionPool._validate_conn\u001b[1;34m(self, conn)\u001b[0m\n\u001b[0;32m   1052\u001b[0m \u001b[39mif\u001b[39;00m \u001b[39mnot\u001b[39;00m \u001b[39mgetattr\u001b[39m(conn, \u001b[39m\"\u001b[39m\u001b[39msock\u001b[39m\u001b[39m\"\u001b[39m, \u001b[39mNone\u001b[39;00m):  \u001b[39m# AppEngine might not have  `.sock`\u001b[39;00m\n\u001b[1;32m-> 1053\u001b[0m     conn\u001b[39m.\u001b[39;49mconnect()\n\u001b[0;32m   1055\u001b[0m \u001b[39mif\u001b[39;00m \u001b[39mnot\u001b[39;00m conn\u001b[39m.\u001b[39mis_verified:\n",
      "File \u001b[1;32mc:\\Users\\lilia\\AppData\\Local\\Programs\\Python\\Python311\\Lib\\site-packages\\urllib3\\connection.py:419\u001b[0m, in \u001b[0;36mHTTPSConnection.connect\u001b[1;34m(self)\u001b[0m\n\u001b[0;32m    417\u001b[0m     context\u001b[39m.\u001b[39mload_default_certs()\n\u001b[1;32m--> 419\u001b[0m \u001b[39mself\u001b[39m\u001b[39m.\u001b[39msock \u001b[39m=\u001b[39m ssl_wrap_socket(\n\u001b[0;32m    420\u001b[0m     sock\u001b[39m=\u001b[39;49mconn,\n\u001b[0;32m    421\u001b[0m     keyfile\u001b[39m=\u001b[39;49m\u001b[39mself\u001b[39;49m\u001b[39m.\u001b[39;49mkey_file,\n\u001b[0;32m    422\u001b[0m     certfile\u001b[39m=\u001b[39;49m\u001b[39mself\u001b[39;49m\u001b[39m.\u001b[39;49mcert_file,\n\u001b[0;32m    423\u001b[0m     key_password\u001b[39m=\u001b[39;49m\u001b[39mself\u001b[39;49m\u001b[39m.\u001b[39;49mkey_password,\n\u001b[0;32m    424\u001b[0m     ca_certs\u001b[39m=\u001b[39;49m\u001b[39mself\u001b[39;49m\u001b[39m.\u001b[39;49mca_certs,\n\u001b[0;32m    425\u001b[0m     ca_cert_dir\u001b[39m=\u001b[39;49m\u001b[39mself\u001b[39;49m\u001b[39m.\u001b[39;49mca_cert_dir,\n\u001b[0;32m    426\u001b[0m     ca_cert_data\u001b[39m=\u001b[39;49m\u001b[39mself\u001b[39;49m\u001b[39m.\u001b[39;49mca_cert_data,\n\u001b[0;32m    427\u001b[0m     server_hostname\u001b[39m=\u001b[39;49mserver_hostname,\n\u001b[0;32m    428\u001b[0m     ssl_context\u001b[39m=\u001b[39;49mcontext,\n\u001b[0;32m    429\u001b[0m     tls_in_tls\u001b[39m=\u001b[39;49mtls_in_tls,\n\u001b[0;32m    430\u001b[0m )\n\u001b[0;32m    432\u001b[0m \u001b[39m# If we're using all defaults and the connection\u001b[39;00m\n\u001b[0;32m    433\u001b[0m \u001b[39m# is TLSv1 or TLSv1.1 we throw a DeprecationWarning\u001b[39;00m\n\u001b[0;32m    434\u001b[0m \u001b[39m# for the host.\u001b[39;00m\n",
      "File \u001b[1;32mc:\\Users\\lilia\\AppData\\Local\\Programs\\Python\\Python311\\Lib\\site-packages\\urllib3\\util\\ssl_.py:449\u001b[0m, in \u001b[0;36mssl_wrap_socket\u001b[1;34m(sock, keyfile, certfile, cert_reqs, ca_certs, server_hostname, ssl_version, ciphers, ssl_context, ca_cert_dir, key_password, ca_cert_data, tls_in_tls)\u001b[0m\n\u001b[0;32m    448\u001b[0m \u001b[39mif\u001b[39;00m send_sni:\n\u001b[1;32m--> 449\u001b[0m     ssl_sock \u001b[39m=\u001b[39m _ssl_wrap_socket_impl(\n\u001b[0;32m    450\u001b[0m         sock, context, tls_in_tls, server_hostname\u001b[39m=\u001b[39;49mserver_hostname\n\u001b[0;32m    451\u001b[0m     )\n\u001b[0;32m    452\u001b[0m \u001b[39melse\u001b[39;00m:\n",
      "File \u001b[1;32mc:\\Users\\lilia\\AppData\\Local\\Programs\\Python\\Python311\\Lib\\site-packages\\urllib3\\util\\ssl_.py:493\u001b[0m, in \u001b[0;36m_ssl_wrap_socket_impl\u001b[1;34m(sock, ssl_context, tls_in_tls, server_hostname)\u001b[0m\n\u001b[0;32m    492\u001b[0m \u001b[39mif\u001b[39;00m server_hostname:\n\u001b[1;32m--> 493\u001b[0m     \u001b[39mreturn\u001b[39;00m ssl_context\u001b[39m.\u001b[39;49mwrap_socket(sock, server_hostname\u001b[39m=\u001b[39;49mserver_hostname)\n\u001b[0;32m    494\u001b[0m \u001b[39melse\u001b[39;00m:\n",
      "File \u001b[1;32mc:\\Users\\lilia\\AppData\\Local\\Programs\\Python\\Python311\\Lib\\ssl.py:517\u001b[0m, in \u001b[0;36mSSLContext.wrap_socket\u001b[1;34m(self, sock, server_side, do_handshake_on_connect, suppress_ragged_eofs, server_hostname, session)\u001b[0m\n\u001b[0;32m    511\u001b[0m \u001b[39mdef\u001b[39;00m \u001b[39mwrap_socket\u001b[39m(\u001b[39mself\u001b[39m, sock, server_side\u001b[39m=\u001b[39m\u001b[39mFalse\u001b[39;00m,\n\u001b[0;32m    512\u001b[0m                 do_handshake_on_connect\u001b[39m=\u001b[39m\u001b[39mTrue\u001b[39;00m,\n\u001b[0;32m    513\u001b[0m                 suppress_ragged_eofs\u001b[39m=\u001b[39m\u001b[39mTrue\u001b[39;00m,\n\u001b[0;32m    514\u001b[0m                 server_hostname\u001b[39m=\u001b[39m\u001b[39mNone\u001b[39;00m, session\u001b[39m=\u001b[39m\u001b[39mNone\u001b[39;00m):\n\u001b[0;32m    515\u001b[0m     \u001b[39m# SSLSocket class handles server_hostname encoding before it calls\u001b[39;00m\n\u001b[0;32m    516\u001b[0m     \u001b[39m# ctx._wrap_socket()\u001b[39;00m\n\u001b[1;32m--> 517\u001b[0m     \u001b[39mreturn\u001b[39;00m \u001b[39mself\u001b[39;49m\u001b[39m.\u001b[39;49msslsocket_class\u001b[39m.\u001b[39;49m_create(\n\u001b[0;32m    518\u001b[0m         sock\u001b[39m=\u001b[39;49msock,\n\u001b[0;32m    519\u001b[0m         server_side\u001b[39m=\u001b[39;49mserver_side,\n\u001b[0;32m    520\u001b[0m         do_handshake_on_connect\u001b[39m=\u001b[39;49mdo_handshake_on_connect,\n\u001b[0;32m    521\u001b[0m         suppress_ragged_eofs\u001b[39m=\u001b[39;49msuppress_ragged_eofs,\n\u001b[0;32m    522\u001b[0m         server_hostname\u001b[39m=\u001b[39;49mserver_hostname,\n\u001b[0;32m    523\u001b[0m         context\u001b[39m=\u001b[39;49m\u001b[39mself\u001b[39;49m,\n\u001b[0;32m    524\u001b[0m         session\u001b[39m=\u001b[39;49msession\n\u001b[0;32m    525\u001b[0m     )\n",
      "File \u001b[1;32mc:\\Users\\lilia\\AppData\\Local\\Programs\\Python\\Python311\\Lib\\ssl.py:1108\u001b[0m, in \u001b[0;36mSSLSocket._create\u001b[1;34m(cls, sock, server_side, do_handshake_on_connect, suppress_ragged_eofs, server_hostname, context, session)\u001b[0m\n\u001b[0;32m   1107\u001b[0m             \u001b[39mraise\u001b[39;00m \u001b[39mValueError\u001b[39;00m(\u001b[39m\"\u001b[39m\u001b[39mdo_handshake_on_connect should not be specified for non-blocking sockets\u001b[39m\u001b[39m\"\u001b[39m)\n\u001b[1;32m-> 1108\u001b[0m         \u001b[39mself\u001b[39;49m\u001b[39m.\u001b[39;49mdo_handshake()\n\u001b[0;32m   1109\u001b[0m \u001b[39mexcept\u001b[39;00m (\u001b[39mOSError\u001b[39;00m, \u001b[39mValueError\u001b[39;00m):\n",
      "File \u001b[1;32mc:\\Users\\lilia\\AppData\\Local\\Programs\\Python\\Python311\\Lib\\ssl.py:1379\u001b[0m, in \u001b[0;36mSSLSocket.do_handshake\u001b[1;34m(self, block)\u001b[0m\n\u001b[0;32m   1378\u001b[0m         \u001b[39mself\u001b[39m\u001b[39m.\u001b[39msettimeout(\u001b[39mNone\u001b[39;00m)\n\u001b[1;32m-> 1379\u001b[0m     \u001b[39mself\u001b[39m\u001b[39m.\u001b[39m_sslobj\u001b[39m.\u001b[39mdo_handshake()\n\u001b[0;32m   1380\u001b[0m \u001b[39mfinally\u001b[39;00m:\n",
      "\u001b[1;31mSSLError\u001b[0m: [SSL: UNSAFE_LEGACY_RENEGOTIATION_DISABLED] unsafe legacy renegotiation disabled (_ssl.c:1006)",
      "\nDuring handling of the above exception, another exception occurred:\n",
      "\u001b[1;31mMaxRetryError\u001b[0m                             Traceback (most recent call last)",
      "File \u001b[1;32mc:\\Users\\lilia\\AppData\\Local\\Programs\\Python\\Python311\\Lib\\site-packages\\requests\\adapters.py:486\u001b[0m, in \u001b[0;36mHTTPAdapter.send\u001b[1;34m(self, request, stream, timeout, verify, cert, proxies)\u001b[0m\n\u001b[0;32m    485\u001b[0m \u001b[39mtry\u001b[39;00m:\n\u001b[1;32m--> 486\u001b[0m     resp \u001b[39m=\u001b[39m conn\u001b[39m.\u001b[39;49murlopen(\n\u001b[0;32m    487\u001b[0m         method\u001b[39m=\u001b[39;49mrequest\u001b[39m.\u001b[39;49mmethod,\n\u001b[0;32m    488\u001b[0m         url\u001b[39m=\u001b[39;49murl,\n\u001b[0;32m    489\u001b[0m         body\u001b[39m=\u001b[39;49mrequest\u001b[39m.\u001b[39;49mbody,\n\u001b[0;32m    490\u001b[0m         headers\u001b[39m=\u001b[39;49mrequest\u001b[39m.\u001b[39;49mheaders,\n\u001b[0;32m    491\u001b[0m         redirect\u001b[39m=\u001b[39;49m\u001b[39mFalse\u001b[39;49;00m,\n\u001b[0;32m    492\u001b[0m         assert_same_host\u001b[39m=\u001b[39;49m\u001b[39mFalse\u001b[39;49;00m,\n\u001b[0;32m    493\u001b[0m         preload_content\u001b[39m=\u001b[39;49m\u001b[39mFalse\u001b[39;49;00m,\n\u001b[0;32m    494\u001b[0m         decode_content\u001b[39m=\u001b[39;49m\u001b[39mFalse\u001b[39;49;00m,\n\u001b[0;32m    495\u001b[0m         retries\u001b[39m=\u001b[39;49m\u001b[39mself\u001b[39;49m\u001b[39m.\u001b[39;49mmax_retries,\n\u001b[0;32m    496\u001b[0m         timeout\u001b[39m=\u001b[39;49mtimeout,\n\u001b[0;32m    497\u001b[0m         chunked\u001b[39m=\u001b[39;49mchunked,\n\u001b[0;32m    498\u001b[0m     )\n\u001b[0;32m    500\u001b[0m \u001b[39mexcept\u001b[39;00m (ProtocolError, \u001b[39mOSError\u001b[39;00m) \u001b[39mas\u001b[39;00m err:\n",
      "File \u001b[1;32mc:\\Users\\lilia\\AppData\\Local\\Programs\\Python\\Python311\\Lib\\site-packages\\urllib3\\connectionpool.py:798\u001b[0m, in \u001b[0;36mHTTPConnectionPool.urlopen\u001b[1;34m(self, method, url, body, headers, retries, redirect, assert_same_host, timeout, pool_timeout, release_conn, chunked, body_pos, **response_kw)\u001b[0m\n\u001b[0;32m    796\u001b[0m     e \u001b[39m=\u001b[39m ProtocolError(\u001b[39m\"\u001b[39m\u001b[39mConnection aborted.\u001b[39m\u001b[39m\"\u001b[39m, e)\n\u001b[1;32m--> 798\u001b[0m retries \u001b[39m=\u001b[39m retries\u001b[39m.\u001b[39;49mincrement(\n\u001b[0;32m    799\u001b[0m     method, url, error\u001b[39m=\u001b[39;49me, _pool\u001b[39m=\u001b[39;49m\u001b[39mself\u001b[39;49m, _stacktrace\u001b[39m=\u001b[39;49msys\u001b[39m.\u001b[39;49mexc_info()[\u001b[39m2\u001b[39;49m]\n\u001b[0;32m    800\u001b[0m )\n\u001b[0;32m    801\u001b[0m retries\u001b[39m.\u001b[39msleep()\n",
      "File \u001b[1;32mc:\\Users\\lilia\\AppData\\Local\\Programs\\Python\\Python311\\Lib\\site-packages\\urllib3\\util\\retry.py:592\u001b[0m, in \u001b[0;36mRetry.increment\u001b[1;34m(self, method, url, response, error, _pool, _stacktrace)\u001b[0m\n\u001b[0;32m    591\u001b[0m \u001b[39mif\u001b[39;00m new_retry\u001b[39m.\u001b[39mis_exhausted():\n\u001b[1;32m--> 592\u001b[0m     \u001b[39mraise\u001b[39;00m MaxRetryError(_pool, url, error \u001b[39mor\u001b[39;00m ResponseError(cause))\n\u001b[0;32m    594\u001b[0m log\u001b[39m.\u001b[39mdebug(\u001b[39m\"\u001b[39m\u001b[39mIncremented Retry for (url=\u001b[39m\u001b[39m'\u001b[39m\u001b[39m%s\u001b[39;00m\u001b[39m'\u001b[39m\u001b[39m): \u001b[39m\u001b[39m%r\u001b[39;00m\u001b[39m\"\u001b[39m, url, new_retry)\n",
      "\u001b[1;31mMaxRetryError\u001b[0m: HTTPSConnectionPool(host='ibge.gov.br', port=443): Max retries exceeded with url: /cidades-e-estados/to.html (Caused by SSLError(SSLError(1, '[SSL: UNSAFE_LEGACY_RENEGOTIATION_DISABLED] unsafe legacy renegotiation disabled (_ssl.c:1006)')))",
      "\nDuring handling of the above exception, another exception occurred:\n",
      "\u001b[1;31mSSLError\u001b[0m                                  Traceback (most recent call last)",
      "\u001b[1;32mc:\\Users\\lilia\\OneDrive - UFRGS\\Cursos\\Bootcamp\\bootcamp-analise-de-dados-enap-2023\\bootcamp\\day 05\\Juntando as Peças.ipynb Cell 9\u001b[0m line \u001b[0;36m3\n\u001b[0;32m     <a href='vscode-notebook-cell:/c%3A/Users/lilia/OneDrive%20-%20UFRGS/Cursos/Bootcamp/bootcamp-analise-de-dados-enap-2023/bootcamp/day%2005/Juntando%20as%20Pe%C3%A7as.ipynb#X11sZmlsZQ%3D%3D?line=37'>38</a>\u001b[0m \u001b[39mtry\u001b[39;00m:\n\u001b[1;32m---> <a href='vscode-notebook-cell:/c%3A/Users/lilia/OneDrive%20-%20UFRGS/Cursos/Bootcamp/bootcamp-analise-de-dados-enap-2023/bootcamp/day%2005/Juntando%20as%20Pe%C3%A7as.ipynb#X11sZmlsZQ%3D%3D?line=38'>39</a>\u001b[0m     response \u001b[39m=\u001b[39m requests\u001b[39m.\u001b[39;49mget(\u001b[39mf\u001b[39;49m\u001b[39m'\u001b[39;49m\u001b[39m{\u001b[39;49;00mURL_STATE\u001b[39m}\u001b[39;49;00m\u001b[39m'\u001b[39;49m)\n\u001b[0;32m     <a href='vscode-notebook-cell:/c%3A/Users/lilia/OneDrive%20-%20UFRGS/Cursos/Bootcamp/bootcamp-analise-de-dados-enap-2023/bootcamp/day%2005/Juntando%20as%20Pe%C3%A7as.ipynb#X11sZmlsZQ%3D%3D?line=39'>40</a>\u001b[0m \u001b[39mexcept\u001b[39;00m requests\u001b[39m.\u001b[39mexceptions\u001b[39m.\u001b[39mSSLError:\n",
      "File \u001b[1;32mc:\\Users\\lilia\\AppData\\Local\\Programs\\Python\\Python311\\Lib\\site-packages\\requests\\api.py:73\u001b[0m, in \u001b[0;36mget\u001b[1;34m(url, params, **kwargs)\u001b[0m\n\u001b[0;32m     63\u001b[0m \u001b[39m\u001b[39m\u001b[39mr\u001b[39m\u001b[39m\"\"\"Sends a GET request.\u001b[39;00m\n\u001b[0;32m     64\u001b[0m \n\u001b[0;32m     65\u001b[0m \u001b[39m:param url: URL for the new :class:`Request` object.\u001b[39;00m\n\u001b[1;32m   (...)\u001b[0m\n\u001b[0;32m     70\u001b[0m \u001b[39m:rtype: requests.Response\u001b[39;00m\n\u001b[0;32m     71\u001b[0m \u001b[39m\"\"\"\u001b[39;00m\n\u001b[1;32m---> 73\u001b[0m \u001b[39mreturn\u001b[39;00m request(\u001b[39m\"\u001b[39;49m\u001b[39mget\u001b[39;49m\u001b[39m\"\u001b[39;49m, url, params\u001b[39m=\u001b[39;49mparams, \u001b[39m*\u001b[39;49m\u001b[39m*\u001b[39;49mkwargs)\n",
      "File \u001b[1;32mc:\\Users\\lilia\\AppData\\Local\\Programs\\Python\\Python311\\Lib\\site-packages\\requests\\api.py:59\u001b[0m, in \u001b[0;36mrequest\u001b[1;34m(method, url, **kwargs)\u001b[0m\n\u001b[0;32m     58\u001b[0m \u001b[39mwith\u001b[39;00m sessions\u001b[39m.\u001b[39mSession() \u001b[39mas\u001b[39;00m session:\n\u001b[1;32m---> 59\u001b[0m     \u001b[39mreturn\u001b[39;00m session\u001b[39m.\u001b[39;49mrequest(method\u001b[39m=\u001b[39;49mmethod, url\u001b[39m=\u001b[39;49murl, \u001b[39m*\u001b[39;49m\u001b[39m*\u001b[39;49mkwargs)\n",
      "File \u001b[1;32mc:\\Users\\lilia\\AppData\\Local\\Programs\\Python\\Python311\\Lib\\site-packages\\requests\\sessions.py:589\u001b[0m, in \u001b[0;36mSession.request\u001b[1;34m(self, method, url, params, data, headers, cookies, files, auth, timeout, allow_redirects, proxies, hooks, stream, verify, cert, json)\u001b[0m\n\u001b[0;32m    588\u001b[0m send_kwargs\u001b[39m.\u001b[39mupdate(settings)\n\u001b[1;32m--> 589\u001b[0m resp \u001b[39m=\u001b[39m \u001b[39mself\u001b[39;49m\u001b[39m.\u001b[39;49msend(prep, \u001b[39m*\u001b[39;49m\u001b[39m*\u001b[39;49msend_kwargs)\n\u001b[0;32m    591\u001b[0m \u001b[39mreturn\u001b[39;00m resp\n",
      "File \u001b[1;32mc:\\Users\\lilia\\AppData\\Local\\Programs\\Python\\Python311\\Lib\\site-packages\\requests\\sessions.py:703\u001b[0m, in \u001b[0;36mSession.send\u001b[1;34m(self, request, **kwargs)\u001b[0m\n\u001b[0;32m    702\u001b[0m \u001b[39m# Send the request\u001b[39;00m\n\u001b[1;32m--> 703\u001b[0m r \u001b[39m=\u001b[39m adapter\u001b[39m.\u001b[39;49msend(request, \u001b[39m*\u001b[39;49m\u001b[39m*\u001b[39;49mkwargs)\n\u001b[0;32m    705\u001b[0m \u001b[39m# Total elapsed time of the request (approximately)\u001b[39;00m\n",
      "File \u001b[1;32mc:\\Users\\lilia\\AppData\\Local\\Programs\\Python\\Python311\\Lib\\site-packages\\requests\\adapters.py:517\u001b[0m, in \u001b[0;36mHTTPAdapter.send\u001b[1;34m(self, request, stream, timeout, verify, cert, proxies)\u001b[0m\n\u001b[0;32m    515\u001b[0m \u001b[39mif\u001b[39;00m \u001b[39misinstance\u001b[39m(e\u001b[39m.\u001b[39mreason, _SSLError):\n\u001b[0;32m    516\u001b[0m     \u001b[39m# This branch is for urllib3 v1.22 and later.\u001b[39;00m\n\u001b[1;32m--> 517\u001b[0m     \u001b[39mraise\u001b[39;00m SSLError(e, request\u001b[39m=\u001b[39mrequest)\n\u001b[0;32m    519\u001b[0m \u001b[39mraise\u001b[39;00m \u001b[39mConnectionError\u001b[39;00m(e, request\u001b[39m=\u001b[39mrequest)\n",
      "\u001b[1;31mSSLError\u001b[0m: HTTPSConnectionPool(host='ibge.gov.br', port=443): Max retries exceeded with url: /cidades-e-estados/to.html (Caused by SSLError(SSLError(1, '[SSL: UNSAFE_LEGACY_RENEGOTIATION_DISABLED] unsafe legacy renegotiation disabled (_ssl.c:1006)')))",
      "\nDuring handling of the above exception, another exception occurred:\n",
      "\u001b[1;31mTimeoutError\u001b[0m                              Traceback (most recent call last)",
      "File \u001b[1;32mc:\\Users\\lilia\\AppData\\Local\\Programs\\Python\\Python311\\Lib\\site-packages\\urllib3\\connection.py:174\u001b[0m, in \u001b[0;36mHTTPConnection._new_conn\u001b[1;34m(self)\u001b[0m\n\u001b[0;32m    173\u001b[0m \u001b[39mtry\u001b[39;00m:\n\u001b[1;32m--> 174\u001b[0m     conn \u001b[39m=\u001b[39m connection\u001b[39m.\u001b[39;49mcreate_connection(\n\u001b[0;32m    175\u001b[0m         (\u001b[39mself\u001b[39;49m\u001b[39m.\u001b[39;49m_dns_host, \u001b[39mself\u001b[39;49m\u001b[39m.\u001b[39;49mport), \u001b[39mself\u001b[39;49m\u001b[39m.\u001b[39;49mtimeout, \u001b[39m*\u001b[39;49m\u001b[39m*\u001b[39;49mextra_kw\n\u001b[0;32m    176\u001b[0m     )\n\u001b[0;32m    178\u001b[0m \u001b[39mexcept\u001b[39;00m SocketTimeout:\n",
      "File \u001b[1;32mc:\\Users\\lilia\\AppData\\Local\\Programs\\Python\\Python311\\Lib\\site-packages\\urllib3\\util\\connection.py:95\u001b[0m, in \u001b[0;36mcreate_connection\u001b[1;34m(address, timeout, source_address, socket_options)\u001b[0m\n\u001b[0;32m     94\u001b[0m \u001b[39mif\u001b[39;00m err \u001b[39mis\u001b[39;00m \u001b[39mnot\u001b[39;00m \u001b[39mNone\u001b[39;00m:\n\u001b[1;32m---> 95\u001b[0m     \u001b[39mraise\u001b[39;00m err\n\u001b[0;32m     97\u001b[0m \u001b[39mraise\u001b[39;00m socket\u001b[39m.\u001b[39merror(\u001b[39m\"\u001b[39m\u001b[39mgetaddrinfo returns an empty list\u001b[39m\u001b[39m\"\u001b[39m)\n",
      "File \u001b[1;32mc:\\Users\\lilia\\AppData\\Local\\Programs\\Python\\Python311\\Lib\\site-packages\\urllib3\\util\\connection.py:85\u001b[0m, in \u001b[0;36mcreate_connection\u001b[1;34m(address, timeout, source_address, socket_options)\u001b[0m\n\u001b[0;32m     84\u001b[0m     sock\u001b[39m.\u001b[39mbind(source_address)\n\u001b[1;32m---> 85\u001b[0m sock\u001b[39m.\u001b[39mconnect(sa)\n\u001b[0;32m     86\u001b[0m \u001b[39mreturn\u001b[39;00m sock\n",
      "\u001b[1;31mTimeoutError\u001b[0m: [WinError 10060] Uma tentativa de conexão falhou porque o componente conectado não respondeu\r\ncorretamente após um período de tempo ou a conexão estabelecida falhou\r\nporque o host conectado não respondeu",
      "\nDuring handling of the above exception, another exception occurred:\n",
      "\u001b[1;31mConnectTimeoutError\u001b[0m                       Traceback (most recent call last)",
      "File \u001b[1;32mc:\\Users\\lilia\\AppData\\Local\\Programs\\Python\\Python311\\Lib\\site-packages\\urllib3\\connectionpool.py:714\u001b[0m, in \u001b[0;36mHTTPConnectionPool.urlopen\u001b[1;34m(self, method, url, body, headers, retries, redirect, assert_same_host, timeout, pool_timeout, release_conn, chunked, body_pos, **response_kw)\u001b[0m\n\u001b[0;32m    713\u001b[0m \u001b[39m# Make the request on the httplib connection object.\u001b[39;00m\n\u001b[1;32m--> 714\u001b[0m httplib_response \u001b[39m=\u001b[39m \u001b[39mself\u001b[39;49m\u001b[39m.\u001b[39;49m_make_request(\n\u001b[0;32m    715\u001b[0m     conn,\n\u001b[0;32m    716\u001b[0m     method,\n\u001b[0;32m    717\u001b[0m     url,\n\u001b[0;32m    718\u001b[0m     timeout\u001b[39m=\u001b[39;49mtimeout_obj,\n\u001b[0;32m    719\u001b[0m     body\u001b[39m=\u001b[39;49mbody,\n\u001b[0;32m    720\u001b[0m     headers\u001b[39m=\u001b[39;49mheaders,\n\u001b[0;32m    721\u001b[0m     chunked\u001b[39m=\u001b[39;49mchunked,\n\u001b[0;32m    722\u001b[0m )\n\u001b[0;32m    724\u001b[0m \u001b[39m# If we're going to release the connection in ``finally:``, then\u001b[39;00m\n\u001b[0;32m    725\u001b[0m \u001b[39m# the response doesn't need to know about the connection. Otherwise\u001b[39;00m\n\u001b[0;32m    726\u001b[0m \u001b[39m# it will also try to release it and we'll have a double-release\u001b[39;00m\n\u001b[0;32m    727\u001b[0m \u001b[39m# mess.\u001b[39;00m\n",
      "File \u001b[1;32mc:\\Users\\lilia\\AppData\\Local\\Programs\\Python\\Python311\\Lib\\site-packages\\urllib3\\connectionpool.py:403\u001b[0m, in \u001b[0;36mHTTPConnectionPool._make_request\u001b[1;34m(self, conn, method, url, timeout, chunked, **httplib_request_kw)\u001b[0m\n\u001b[0;32m    402\u001b[0m \u001b[39mtry\u001b[39;00m:\n\u001b[1;32m--> 403\u001b[0m     \u001b[39mself\u001b[39;49m\u001b[39m.\u001b[39;49m_validate_conn(conn)\n\u001b[0;32m    404\u001b[0m \u001b[39mexcept\u001b[39;00m (SocketTimeout, BaseSSLError) \u001b[39mas\u001b[39;00m e:\n\u001b[0;32m    405\u001b[0m     \u001b[39m# Py2 raises this as a BaseSSLError, Py3 raises it as socket timeout.\u001b[39;00m\n",
      "File \u001b[1;32mc:\\Users\\lilia\\AppData\\Local\\Programs\\Python\\Python311\\Lib\\site-packages\\urllib3\\connectionpool.py:1053\u001b[0m, in \u001b[0;36mHTTPSConnectionPool._validate_conn\u001b[1;34m(self, conn)\u001b[0m\n\u001b[0;32m   1052\u001b[0m \u001b[39mif\u001b[39;00m \u001b[39mnot\u001b[39;00m \u001b[39mgetattr\u001b[39m(conn, \u001b[39m\"\u001b[39m\u001b[39msock\u001b[39m\u001b[39m\"\u001b[39m, \u001b[39mNone\u001b[39;00m):  \u001b[39m# AppEngine might not have  `.sock`\u001b[39;00m\n\u001b[1;32m-> 1053\u001b[0m     conn\u001b[39m.\u001b[39;49mconnect()\n\u001b[0;32m   1055\u001b[0m \u001b[39mif\u001b[39;00m \u001b[39mnot\u001b[39;00m conn\u001b[39m.\u001b[39mis_verified:\n",
      "File \u001b[1;32mc:\\Users\\lilia\\AppData\\Local\\Programs\\Python\\Python311\\Lib\\site-packages\\urllib3\\connection.py:363\u001b[0m, in \u001b[0;36mHTTPSConnection.connect\u001b[1;34m(self)\u001b[0m\n\u001b[0;32m    361\u001b[0m \u001b[39mdef\u001b[39;00m \u001b[39mconnect\u001b[39m(\u001b[39mself\u001b[39m):\n\u001b[0;32m    362\u001b[0m     \u001b[39m# Add certificate verification\u001b[39;00m\n\u001b[1;32m--> 363\u001b[0m     \u001b[39mself\u001b[39m\u001b[39m.\u001b[39msock \u001b[39m=\u001b[39m conn \u001b[39m=\u001b[39m \u001b[39mself\u001b[39;49m\u001b[39m.\u001b[39;49m_new_conn()\n\u001b[0;32m    364\u001b[0m     hostname \u001b[39m=\u001b[39m \u001b[39mself\u001b[39m\u001b[39m.\u001b[39mhost\n",
      "File \u001b[1;32mc:\\Users\\lilia\\AppData\\Local\\Programs\\Python\\Python311\\Lib\\site-packages\\urllib3\\connection.py:179\u001b[0m, in \u001b[0;36mHTTPConnection._new_conn\u001b[1;34m(self)\u001b[0m\n\u001b[0;32m    178\u001b[0m \u001b[39mexcept\u001b[39;00m SocketTimeout:\n\u001b[1;32m--> 179\u001b[0m     \u001b[39mraise\u001b[39;00m ConnectTimeoutError(\n\u001b[0;32m    180\u001b[0m         \u001b[39mself\u001b[39m,\n\u001b[0;32m    181\u001b[0m         \u001b[39m\"\u001b[39m\u001b[39mConnection to \u001b[39m\u001b[39m%s\u001b[39;00m\u001b[39m timed out. (connect timeout=\u001b[39m\u001b[39m%s\u001b[39;00m\u001b[39m)\u001b[39m\u001b[39m\"\u001b[39m\n\u001b[0;32m    182\u001b[0m         \u001b[39m%\u001b[39m (\u001b[39mself\u001b[39m\u001b[39m.\u001b[39mhost, \u001b[39mself\u001b[39m\u001b[39m.\u001b[39mtimeout),\n\u001b[0;32m    183\u001b[0m     )\n\u001b[0;32m    185\u001b[0m \u001b[39mexcept\u001b[39;00m SocketError \u001b[39mas\u001b[39;00m e:\n",
      "\u001b[1;31mConnectTimeoutError\u001b[0m: (<urllib3.connection.HTTPSConnection object at 0x0000013F08685010>, 'Connection to ibge.gov.br timed out. (connect timeout=None)')",
      "\nDuring handling of the above exception, another exception occurred:\n",
      "\u001b[1;31mMaxRetryError\u001b[0m                             Traceback (most recent call last)",
      "File \u001b[1;32mc:\\Users\\lilia\\AppData\\Local\\Programs\\Python\\Python311\\Lib\\site-packages\\requests\\adapters.py:486\u001b[0m, in \u001b[0;36mHTTPAdapter.send\u001b[1;34m(self, request, stream, timeout, verify, cert, proxies)\u001b[0m\n\u001b[0;32m    485\u001b[0m \u001b[39mtry\u001b[39;00m:\n\u001b[1;32m--> 486\u001b[0m     resp \u001b[39m=\u001b[39m conn\u001b[39m.\u001b[39;49murlopen(\n\u001b[0;32m    487\u001b[0m         method\u001b[39m=\u001b[39;49mrequest\u001b[39m.\u001b[39;49mmethod,\n\u001b[0;32m    488\u001b[0m         url\u001b[39m=\u001b[39;49murl,\n\u001b[0;32m    489\u001b[0m         body\u001b[39m=\u001b[39;49mrequest\u001b[39m.\u001b[39;49mbody,\n\u001b[0;32m    490\u001b[0m         headers\u001b[39m=\u001b[39;49mrequest\u001b[39m.\u001b[39;49mheaders,\n\u001b[0;32m    491\u001b[0m         redirect\u001b[39m=\u001b[39;49m\u001b[39mFalse\u001b[39;49;00m,\n\u001b[0;32m    492\u001b[0m         assert_same_host\u001b[39m=\u001b[39;49m\u001b[39mFalse\u001b[39;49;00m,\n\u001b[0;32m    493\u001b[0m         preload_content\u001b[39m=\u001b[39;49m\u001b[39mFalse\u001b[39;49;00m,\n\u001b[0;32m    494\u001b[0m         decode_content\u001b[39m=\u001b[39;49m\u001b[39mFalse\u001b[39;49;00m,\n\u001b[0;32m    495\u001b[0m         retries\u001b[39m=\u001b[39;49m\u001b[39mself\u001b[39;49m\u001b[39m.\u001b[39;49mmax_retries,\n\u001b[0;32m    496\u001b[0m         timeout\u001b[39m=\u001b[39;49mtimeout,\n\u001b[0;32m    497\u001b[0m         chunked\u001b[39m=\u001b[39;49mchunked,\n\u001b[0;32m    498\u001b[0m     )\n\u001b[0;32m    500\u001b[0m \u001b[39mexcept\u001b[39;00m (ProtocolError, \u001b[39mOSError\u001b[39;00m) \u001b[39mas\u001b[39;00m err:\n",
      "File \u001b[1;32mc:\\Users\\lilia\\AppData\\Local\\Programs\\Python\\Python311\\Lib\\site-packages\\urllib3\\connectionpool.py:798\u001b[0m, in \u001b[0;36mHTTPConnectionPool.urlopen\u001b[1;34m(self, method, url, body, headers, retries, redirect, assert_same_host, timeout, pool_timeout, release_conn, chunked, body_pos, **response_kw)\u001b[0m\n\u001b[0;32m    796\u001b[0m     e \u001b[39m=\u001b[39m ProtocolError(\u001b[39m\"\u001b[39m\u001b[39mConnection aborted.\u001b[39m\u001b[39m\"\u001b[39m, e)\n\u001b[1;32m--> 798\u001b[0m retries \u001b[39m=\u001b[39m retries\u001b[39m.\u001b[39;49mincrement(\n\u001b[0;32m    799\u001b[0m     method, url, error\u001b[39m=\u001b[39;49me, _pool\u001b[39m=\u001b[39;49m\u001b[39mself\u001b[39;49m, _stacktrace\u001b[39m=\u001b[39;49msys\u001b[39m.\u001b[39;49mexc_info()[\u001b[39m2\u001b[39;49m]\n\u001b[0;32m    800\u001b[0m )\n\u001b[0;32m    801\u001b[0m retries\u001b[39m.\u001b[39msleep()\n",
      "File \u001b[1;32mc:\\Users\\lilia\\AppData\\Local\\Programs\\Python\\Python311\\Lib\\site-packages\\urllib3\\util\\retry.py:592\u001b[0m, in \u001b[0;36mRetry.increment\u001b[1;34m(self, method, url, response, error, _pool, _stacktrace)\u001b[0m\n\u001b[0;32m    591\u001b[0m \u001b[39mif\u001b[39;00m new_retry\u001b[39m.\u001b[39mis_exhausted():\n\u001b[1;32m--> 592\u001b[0m     \u001b[39mraise\u001b[39;00m MaxRetryError(_pool, url, error \u001b[39mor\u001b[39;00m ResponseError(cause))\n\u001b[0;32m    594\u001b[0m log\u001b[39m.\u001b[39mdebug(\u001b[39m\"\u001b[39m\u001b[39mIncremented Retry for (url=\u001b[39m\u001b[39m'\u001b[39m\u001b[39m%s\u001b[39;00m\u001b[39m'\u001b[39m\u001b[39m): \u001b[39m\u001b[39m%r\u001b[39;00m\u001b[39m\"\u001b[39m, url, new_retry)\n",
      "\u001b[1;31mMaxRetryError\u001b[0m: HTTPSConnectionPool(host='ibge.gov.br', port=443): Max retries exceeded with url: /cidades-e-estados/to.html (Caused by ConnectTimeoutError(<urllib3.connection.HTTPSConnection object at 0x0000013F08685010>, 'Connection to ibge.gov.br timed out. (connect timeout=None)'))",
      "\nDuring handling of the above exception, another exception occurred:\n",
      "\u001b[1;31mConnectTimeout\u001b[0m                            Traceback (most recent call last)",
      "\u001b[1;32mc:\\Users\\lilia\\OneDrive - UFRGS\\Cursos\\Bootcamp\\bootcamp-analise-de-dados-enap-2023\\bootcamp\\day 05\\Juntando as Peças.ipynb Cell 9\u001b[0m line \u001b[0;36m1\n\u001b[1;32m----> <a href='vscode-notebook-cell:/c%3A/Users/lilia/OneDrive%20-%20UFRGS/Cursos/Bootcamp/bootcamp-analise-de-dados-enap-2023/bootcamp/day%2005/Juntando%20as%20Pe%C3%A7as.ipynb#X11sZmlsZQ%3D%3D?line=0'>1</a>\u001b[0m access_pages_and_save(url \u001b[39m=\u001b[39;49m \u001b[39m'\u001b[39;49m\u001b[39mhttps://ibge.gov.br/cidades-e-estados\u001b[39;49m\u001b[39m'\u001b[39;49m,\n\u001b[0;32m      <a href='vscode-notebook-cell:/c%3A/Users/lilia/OneDrive%20-%20UFRGS/Cursos/Bootcamp/bootcamp-analise-de-dados-enap-2023/bootcamp/day%2005/Juntando%20as%20Pe%C3%A7as.ipynb#X11sZmlsZQ%3D%3D?line=1'>2</a>\u001b[0m                       input_filename \u001b[39m=\u001b[39;49m \u001b[39m'\u001b[39;49m\u001b[39mestados_codigos.json\u001b[39;49m\u001b[39m'\u001b[39;49m,\n\u001b[0;32m      <a href='vscode-notebook-cell:/c%3A/Users/lilia/OneDrive%20-%20UFRGS/Cursos/Bootcamp/bootcamp-analise-de-dados-enap-2023/bootcamp/day%2005/Juntando%20as%20Pe%C3%A7as.ipynb#X11sZmlsZQ%3D%3D?line=2'>3</a>\u001b[0m                       output_filename \u001b[39m=\u001b[39;49m \u001b[39m'\u001b[39;49m\u001b[39mestados_caracteristicas.json\u001b[39;49m\u001b[39m'\u001b[39;49m)\n",
      "\u001b[1;32mc:\\Users\\lilia\\OneDrive - UFRGS\\Cursos\\Bootcamp\\bootcamp-analise-de-dados-enap-2023\\bootcamp\\day 05\\Juntando as Peças.ipynb Cell 9\u001b[0m line \u001b[0;36m8\n\u001b[0;32m     <a href='vscode-notebook-cell:/c%3A/Users/lilia/OneDrive%20-%20UFRGS/Cursos/Bootcamp/bootcamp-analise-de-dados-enap-2023/bootcamp/day%2005/Juntando%20as%20Pe%C3%A7as.ipynb#X11sZmlsZQ%3D%3D?line=84'>85</a>\u001b[0m json_states_characteristics \u001b[39m=\u001b[39m []\n\u001b[0;32m     <a href='vscode-notebook-cell:/c%3A/Users/lilia/OneDrive%20-%20UFRGS/Cursos/Bootcamp/bootcamp-analise-de-dados-enap-2023/bootcamp/day%2005/Juntando%20as%20Pe%C3%A7as.ipynb#X11sZmlsZQ%3D%3D?line=85'>86</a>\u001b[0m \u001b[39mfor\u001b[39;00m lower_state \u001b[39min\u001b[39;00m lower_states:\n\u001b[0;32m     <a href='vscode-notebook-cell:/c%3A/Users/lilia/OneDrive%20-%20UFRGS/Cursos/Bootcamp/bootcamp-analise-de-dados-enap-2023/bootcamp/day%2005/Juntando%20as%20Pe%C3%A7as.ipynb#X11sZmlsZQ%3D%3D?line=86'>87</a>\u001b[0m     json_states_characteristics\u001b[39m.\u001b[39mappend(\\\n\u001b[0;32m     <a href='vscode-notebook-cell:/c%3A/Users/lilia/OneDrive%20-%20UFRGS/Cursos/Bootcamp/bootcamp-analise-de-dados-enap-2023/bootcamp/day%2005/Juntando%20as%20Pe%C3%A7as.ipynb#X11sZmlsZQ%3D%3D?line=87'>88</a>\u001b[0m         {\u001b[39m'\u001b[39m\u001b[39mstate\u001b[39m\u001b[39m'\u001b[39m: lower_state,\\\n\u001b[1;32m---> <a href='vscode-notebook-cell:/c%3A/Users/lilia/OneDrive%20-%20UFRGS/Cursos/Bootcamp/bootcamp-analise-de-dados-enap-2023/bootcamp/day%2005/Juntando%20as%20Pe%C3%A7as.ipynb#X11sZmlsZQ%3D%3D?line=88'>89</a>\u001b[0m          \u001b[39m'\u001b[39m\u001b[39mcharacteristics\u001b[39m\u001b[39m'\u001b[39m: parse_page(url, lower_state)})\n\u001b[0;32m     <a href='vscode-notebook-cell:/c%3A/Users/lilia/OneDrive%20-%20UFRGS/Cursos/Bootcamp/bootcamp-analise-de-dados-enap-2023/bootcamp/day%2005/Juntando%20as%20Pe%C3%A7as.ipynb#X11sZmlsZQ%3D%3D?line=90'>91</a>\u001b[0m outputpath \u001b[39m=\u001b[39m os\u001b[39m.\u001b[39mpath\u001b[39m.\u001b[39mjoin(folderpath, output_filename)\n\u001b[0;32m     <a href='vscode-notebook-cell:/c%3A/Users/lilia/OneDrive%20-%20UFRGS/Cursos/Bootcamp/bootcamp-analise-de-dados-enap-2023/bootcamp/day%2005/Juntando%20as%20Pe%C3%A7as.ipynb#X11sZmlsZQ%3D%3D?line=91'>92</a>\u001b[0m \u001b[39mwith\u001b[39;00m \u001b[39mopen\u001b[39m(outputpath, mode\u001b[39m=\u001b[39m\u001b[39m'\u001b[39m\u001b[39mw\u001b[39m\u001b[39m'\u001b[39m) \u001b[39mas\u001b[39;00m jsonfile:\n",
      "\u001b[1;32mc:\\Users\\lilia\\OneDrive - UFRGS\\Cursos\\Bootcamp\\bootcamp-analise-de-dados-enap-2023\\bootcamp\\day 05\\Juntando as Peças.ipynb Cell 9\u001b[0m line \u001b[0;36m6\n\u001b[0;32m     <a href='vscode-notebook-cell:/c%3A/Users/lilia/OneDrive%20-%20UFRGS/Cursos/Bootcamp/bootcamp-analise-de-dados-enap-2023/bootcamp/day%2005/Juntando%20as%20Pe%C3%A7as.ipynb#X11sZmlsZQ%3D%3D?line=67'>68</a>\u001b[0m \u001b[39mdef\u001b[39;00m \u001b[39mparse_page\u001b[39m(url, lower_state):\n\u001b[1;32m---> <a href='vscode-notebook-cell:/c%3A/Users/lilia/OneDrive%20-%20UFRGS/Cursos/Bootcamp/bootcamp-analise-de-dados-enap-2023/bootcamp/day%2005/Juntando%20as%20Pe%C3%A7as.ipynb#X11sZmlsZQ%3D%3D?line=68'>69</a>\u001b[0m     content \u001b[39m=\u001b[39m scrape_from_internet(url, lower_state)\n\u001b[0;32m     <a href='vscode-notebook-cell:/c%3A/Users/lilia/OneDrive%20-%20UFRGS/Cursos/Bootcamp/bootcamp-analise-de-dados-enap-2023/bootcamp/day%2005/Juntando%20as%20Pe%C3%A7as.ipynb#X11sZmlsZQ%3D%3D?line=69'>70</a>\u001b[0m     all_indicators \u001b[39m=\u001b[39m html_indicators(content)\n\u001b[0;32m     <a href='vscode-notebook-cell:/c%3A/Users/lilia/OneDrive%20-%20UFRGS/Cursos/Bootcamp/bootcamp-analise-de-dados-enap-2023/bootcamp/day%2005/Juntando%20as%20Pe%C3%A7as.ipynb#X11sZmlsZQ%3D%3D?line=70'>71</a>\u001b[0m     \u001b[39mreturn\u001b[39;00m parse_indicators(all_indicators)\n",
      "\u001b[1;32mc:\\Users\\lilia\\OneDrive - UFRGS\\Cursos\\Bootcamp\\bootcamp-analise-de-dados-enap-2023\\bootcamp\\day 05\\Juntando as Peças.ipynb Cell 9\u001b[0m line \u001b[0;36m4\n\u001b[0;32m     <a href='vscode-notebook-cell:/c%3A/Users/lilia/OneDrive%20-%20UFRGS/Cursos/Bootcamp/bootcamp-analise-de-dados-enap-2023/bootcamp/day%2005/Juntando%20as%20Pe%C3%A7as.ipynb#X11sZmlsZQ%3D%3D?line=38'>39</a>\u001b[0m     response \u001b[39m=\u001b[39m requests\u001b[39m.\u001b[39mget(\u001b[39mf\u001b[39m\u001b[39m'\u001b[39m\u001b[39m{\u001b[39;00mURL_STATE\u001b[39m}\u001b[39;00m\u001b[39m'\u001b[39m)\n\u001b[0;32m     <a href='vscode-notebook-cell:/c%3A/Users/lilia/OneDrive%20-%20UFRGS/Cursos/Bootcamp/bootcamp-analise-de-dados-enap-2023/bootcamp/day%2005/Juntando%20as%20Pe%C3%A7as.ipynb#X11sZmlsZQ%3D%3D?line=39'>40</a>\u001b[0m \u001b[39mexcept\u001b[39;00m requests\u001b[39m.\u001b[39mexceptions\u001b[39m.\u001b[39mSSLError:\n\u001b[1;32m---> <a href='vscode-notebook-cell:/c%3A/Users/lilia/OneDrive%20-%20UFRGS/Cursos/Bootcamp/bootcamp-analise-de-dados-enap-2023/bootcamp/day%2005/Juntando%20as%20Pe%C3%A7as.ipynb#X11sZmlsZQ%3D%3D?line=40'>41</a>\u001b[0m     response \u001b[39m=\u001b[39m get_legacy_session()\u001b[39m.\u001b[39;49mget(\u001b[39mf\u001b[39;49m\u001b[39m'\u001b[39;49m\u001b[39m{\u001b[39;49;00mURL_STATE\u001b[39m}\u001b[39;49;00m\u001b[39m'\u001b[39;49m)\n\u001b[0;32m     <a href='vscode-notebook-cell:/c%3A/Users/lilia/OneDrive%20-%20UFRGS/Cursos/Bootcamp/bootcamp-analise-de-dados-enap-2023/bootcamp/day%2005/Juntando%20as%20Pe%C3%A7as.ipynb#X11sZmlsZQ%3D%3D?line=41'>42</a>\u001b[0m \u001b[39mreturn\u001b[39;00m response\u001b[39m.\u001b[39mcontent\n",
      "File \u001b[1;32mc:\\Users\\lilia\\AppData\\Local\\Programs\\Python\\Python311\\Lib\\site-packages\\requests\\sessions.py:602\u001b[0m, in \u001b[0;36mSession.get\u001b[1;34m(self, url, **kwargs)\u001b[0m\n\u001b[0;32m    594\u001b[0m \u001b[39m\u001b[39m\u001b[39mr\u001b[39m\u001b[39m\"\"\"Sends a GET request. Returns :class:`Response` object.\u001b[39;00m\n\u001b[0;32m    595\u001b[0m \n\u001b[0;32m    596\u001b[0m \u001b[39m:param url: URL for the new :class:`Request` object.\u001b[39;00m\n\u001b[0;32m    597\u001b[0m \u001b[39m:param \\*\\*kwargs: Optional arguments that ``request`` takes.\u001b[39;00m\n\u001b[0;32m    598\u001b[0m \u001b[39m:rtype: requests.Response\u001b[39;00m\n\u001b[0;32m    599\u001b[0m \u001b[39m\"\"\"\u001b[39;00m\n\u001b[0;32m    601\u001b[0m kwargs\u001b[39m.\u001b[39msetdefault(\u001b[39m\"\u001b[39m\u001b[39mallow_redirects\u001b[39m\u001b[39m\"\u001b[39m, \u001b[39mTrue\u001b[39;00m)\n\u001b[1;32m--> 602\u001b[0m \u001b[39mreturn\u001b[39;00m \u001b[39mself\u001b[39;49m\u001b[39m.\u001b[39;49mrequest(\u001b[39m\"\u001b[39;49m\u001b[39mGET\u001b[39;49m\u001b[39m\"\u001b[39;49m, url, \u001b[39m*\u001b[39;49m\u001b[39m*\u001b[39;49mkwargs)\n",
      "File \u001b[1;32mc:\\Users\\lilia\\AppData\\Local\\Programs\\Python\\Python311\\Lib\\site-packages\\requests\\sessions.py:589\u001b[0m, in \u001b[0;36mSession.request\u001b[1;34m(self, method, url, params, data, headers, cookies, files, auth, timeout, allow_redirects, proxies, hooks, stream, verify, cert, json)\u001b[0m\n\u001b[0;32m    584\u001b[0m send_kwargs \u001b[39m=\u001b[39m {\n\u001b[0;32m    585\u001b[0m     \u001b[39m\"\u001b[39m\u001b[39mtimeout\u001b[39m\u001b[39m\"\u001b[39m: timeout,\n\u001b[0;32m    586\u001b[0m     \u001b[39m\"\u001b[39m\u001b[39mallow_redirects\u001b[39m\u001b[39m\"\u001b[39m: allow_redirects,\n\u001b[0;32m    587\u001b[0m }\n\u001b[0;32m    588\u001b[0m send_kwargs\u001b[39m.\u001b[39mupdate(settings)\n\u001b[1;32m--> 589\u001b[0m resp \u001b[39m=\u001b[39m \u001b[39mself\u001b[39;49m\u001b[39m.\u001b[39;49msend(prep, \u001b[39m*\u001b[39;49m\u001b[39m*\u001b[39;49msend_kwargs)\n\u001b[0;32m    591\u001b[0m \u001b[39mreturn\u001b[39;00m resp\n",
      "File \u001b[1;32mc:\\Users\\lilia\\AppData\\Local\\Programs\\Python\\Python311\\Lib\\site-packages\\requests\\sessions.py:703\u001b[0m, in \u001b[0;36mSession.send\u001b[1;34m(self, request, **kwargs)\u001b[0m\n\u001b[0;32m    700\u001b[0m start \u001b[39m=\u001b[39m preferred_clock()\n\u001b[0;32m    702\u001b[0m \u001b[39m# Send the request\u001b[39;00m\n\u001b[1;32m--> 703\u001b[0m r \u001b[39m=\u001b[39m adapter\u001b[39m.\u001b[39;49msend(request, \u001b[39m*\u001b[39;49m\u001b[39m*\u001b[39;49mkwargs)\n\u001b[0;32m    705\u001b[0m \u001b[39m# Total elapsed time of the request (approximately)\u001b[39;00m\n\u001b[0;32m    706\u001b[0m elapsed \u001b[39m=\u001b[39m preferred_clock() \u001b[39m-\u001b[39m start\n",
      "File \u001b[1;32mc:\\Users\\lilia\\AppData\\Local\\Programs\\Python\\Python311\\Lib\\site-packages\\requests\\adapters.py:507\u001b[0m, in \u001b[0;36mHTTPAdapter.send\u001b[1;34m(self, request, stream, timeout, verify, cert, proxies)\u001b[0m\n\u001b[0;32m    504\u001b[0m \u001b[39mif\u001b[39;00m \u001b[39misinstance\u001b[39m(e\u001b[39m.\u001b[39mreason, ConnectTimeoutError):\n\u001b[0;32m    505\u001b[0m     \u001b[39m# TODO: Remove this in 3.0.0: see #2811\u001b[39;00m\n\u001b[0;32m    506\u001b[0m     \u001b[39mif\u001b[39;00m \u001b[39mnot\u001b[39;00m \u001b[39misinstance\u001b[39m(e\u001b[39m.\u001b[39mreason, NewConnectionError):\n\u001b[1;32m--> 507\u001b[0m         \u001b[39mraise\u001b[39;00m ConnectTimeout(e, request\u001b[39m=\u001b[39mrequest)\n\u001b[0;32m    509\u001b[0m \u001b[39mif\u001b[39;00m \u001b[39misinstance\u001b[39m(e\u001b[39m.\u001b[39mreason, ResponseError):\n\u001b[0;32m    510\u001b[0m     \u001b[39mraise\u001b[39;00m RetryError(e, request\u001b[39m=\u001b[39mrequest)\n",
      "\u001b[1;31mConnectTimeout\u001b[0m: HTTPSConnectionPool(host='ibge.gov.br', port=443): Max retries exceeded with url: /cidades-e-estados/to.html (Caused by ConnectTimeoutError(<urllib3.connection.HTTPSConnection object at 0x0000013F08685010>, 'Connection to ibge.gov.br timed out. (connect timeout=None)'))"
     ]
    }
   ],
   "source": [
    "access_pages_and_save(url = 'https://ibge.gov.br/cidades-e-estados',\n",
    "                      input_filename = 'estados_codigos.json',\n",
    "                      output_filename = 'estados_caracteristicas.json')"
   ]
  },
  {
   "cell_type": "markdown",
   "id": "a99217a8-02a0-4c96-88dd-a518c20b8890",
   "metadata": {},
   "source": [
    "### Dados de casos e óbitos por covid-19"
   ]
  },
  {
   "cell_type": "markdown",
   "id": "8e8fe912-efde-4063-ab0b-5d5378c300b1",
   "metadata": {
    "slideshow": {
     "slide_type": "-"
    }
   },
   "source": [
    "<pre>Vamos baixar os dados de casos e óbitos por covid-19 no Brasil para o nosso sistema de arquivos... nós os utilizaremos no decorrer das aulas!</pre>"
   ]
  },
  {
   "cell_type": "markdown",
   "id": "4b60b5ed-5a5a-44ce-9990-8b8cb1e2e40d",
   "metadata": {},
   "source": [
    "👉 dados de <a href='https://covid.saude.gov.br/'>casos e óbitos por covid-19 no Brasil</a>"
   ]
  },
  {
   "cell_type": "markdown",
   "id": "f1f8d719-1490-4aed-9d26-89f4ea4ef78e",
   "metadata": {
    "slideshow": {
     "slide_type": "-"
    }
   },
   "source": [
    "#### Funções Auxiliares"
   ]
  },
  {
   "cell_type": "code",
   "execution_count": null,
   "id": "28617d58-d055-4d7c-bb79-b10f84e4e0ec",
   "metadata": {},
   "outputs": [
    {
     "name": "stdout",
     "output_type": "stream",
     "text": [
      "\n",
      "\u001b[1m[\u001b[0m\u001b[34;49mnotice\u001b[0m\u001b[1;39;49m]\u001b[0m\u001b[39;49m A new release of pip available: \u001b[0m\u001b[31;49m22.3.1\u001b[0m\u001b[39;49m -> \u001b[0m\u001b[32;49m23.2.1\u001b[0m\n",
      "\u001b[1m[\u001b[0m\u001b[34;49mnotice\u001b[0m\u001b[1;39;49m]\u001b[0m\u001b[39;49m To update, run: \u001b[0m\u001b[32;49mpython3.11 -m pip install --upgrade pip\u001b[0m\n"
     ]
    }
   ],
   "source": [
    "!pip install --upgrade selenium --quiet"
   ]
  },
  {
   "cell_type": "code",
   "execution_count": null,
   "id": "241d1321-be08-4d37-ac82-f64af0b1c86f",
   "metadata": {
    "slideshow": {
     "slide_type": "-"
    }
   },
   "outputs": [],
   "source": [
    "import os, time, csv\n",
    "from zipfile import ZipFile\n",
    "from selenium import webdriver\n",
    "from selenium.webdriver.chrome.options import Options\n",
    "from selenium.webdriver.common.by import By"
   ]
  },
  {
   "cell_type": "code",
   "execution_count": null,
   "id": "59a1c137-46c6-45cb-ac21-28120e6b8a37",
   "metadata": {
    "slideshow": {
     "slide_type": "-"
    }
   },
   "outputs": [],
   "source": [
    "def file_exists(filename_start = 'HIST_PAINEL_COVID'):\n",
    "    folderpath = build_path('tmp')\n",
    "    compressed_filepath = None\n",
    "\n",
    "    for file in os.listdir(folderpath):\n",
    "        if file.startswith(filename_start) and file.endswith('.zip'):\n",
    "            compressed_filepath = os.path.join(folderpath, file)\n",
    "    \n",
    "    return compressed_filepath\n",
    "\n",
    "def open_browser_and_save(url = 'https://covid.saude.gov.br/',\n",
    "                          filename_start = 'HIST_PAINEL_COVID'):\n",
    "    folderpath = build_path('tmp')\n",
    "\n",
    "    #trecho incluído para limpar a pasta tmp\n",
    "    for file in os.listdir(folderpath):\n",
    "        if file.startswith('HIST_PAINEL_COVID'):\n",
    "            filepath = os.path.join(folderpath, file)\n",
    "            os.remove(filepath)\n",
    "    \n",
    "    options = Options()\n",
    "    prefs = {'download.default_directory' : folderpath}\n",
    "    options.add_experimental_option('prefs', prefs)\n",
    "    driver = webdriver.Chrome(options=options)\n",
    "    driver.get(url)\n",
    "\n",
    "    button = driver.find_element(By.XPATH,\n",
    "                                 \"//*[contains(text(), 'Arquivo CSV')]\")\n",
    "    time.sleep(2)\n",
    "    button.click()\n",
    "\n",
    "    #código aperfeiçoado para fechar a janela no fim do download\n",
    "    compressed_filepath = None\n",
    "    while compressed_filepath is None:\n",
    "        time.sleep(1)\n",
    "        compressed_filepath = file_exists()\n",
    "\n",
    "    driver.close()\n",
    "    \n",
    "    return compressed_filepath\n",
    "\n",
    "def extract_folder(compressed_filepath, \n",
    "                   filename_start = 'HIST_PAINEL_COVID'):\n",
    "    compressed_folderpath = os.path.split(compressed_filepath)[0]\n",
    "    \n",
    "    if compressed_filepath.endswith('.zip'):\n",
    "        with ZipFile(compressed_filepath, 'r') as file:\n",
    "            file.extractall(path=compressed_folderpath)\n",
    "            file.close()\n",
    "\n",
    "    os.remove(compressed_filepath)\n",
    "\n",
    "def concatenate_datasets(filename_start = 'HIST_PAINEL_COVID'):\n",
    "    folderpath = build_path('tmp')\n",
    "\n",
    "    header, rows = None, []\n",
    "    for file in os.listdir(folderpath):\n",
    "        if file.startswith(filename_start) and file.endswith('.csv'):\n",
    "            filepath = os.path.join(folderpath, file)\n",
    "            with open(filepath, encoding='utf-8') as csvfile:\n",
    "                csvreader = csv.DictReader(csvfile, delimiter=';')\n",
    "                header = csvreader.fieldnames\n",
    "                for row in csvreader: rows.append(row)\n",
    "            #os.remove(filepath)\n",
    "\n",
    "    folderpath = build_path('raw')\n",
    "    filepath = os.path.join(folderpath, 'ALL_' + filename_start + '.csv')\n",
    "    with open(filepath, 'w', newline='', encoding='utf-8') as csvfile:\n",
    "        writer = csv.DictWriter(csvfile, fieldnames=header, delimiter=';')\n",
    "        writer.writeheader()\n",
    "        for row in rows: writer.writerow(row)"
   ]
  },
  {
   "cell_type": "markdown",
   "id": "bfb935cb-f6dc-4d26-9f9c-0d7591e331b2",
   "metadata": {
    "slideshow": {
     "slide_type": "subslide"
    }
   },
   "source": [
    "#### Código"
   ]
  },
  {
   "cell_type": "code",
   "execution_count": null,
   "id": "ae773415-3cef-4796-b529-8eaf35ee2bc1",
   "metadata": {
    "slideshow": {
     "slide_type": "-"
    }
   },
   "outputs": [],
   "source": [
    "compressed_filepath = open_browser_and_save()\n",
    "extract_folder(compressed_filepath)\n",
    "concatenate_datasets()"
   ]
  },
  {
   "cell_type": "markdown",
   "id": "e231ac87-b546-47e1-948d-2a0b757a3874",
   "metadata": {
    "slideshow": {
     "slide_type": "slide"
    }
   },
   "source": [
    "## API 📝"
   ]
  },
  {
   "cell_type": "markdown",
   "id": "5acb1bc4-43ba-4ec2-af7e-980e3b8ea8dd",
   "metadata": {},
   "source": [
    "### Dados de Vacinação contra covid-19"
   ]
  },
  {
   "cell_type": "markdown",
   "id": "0486b158-d70c-4860-a679-36f86f0cf79d",
   "metadata": {},
   "source": [
    "<pre>Vamos baixar os dados de vacinação para covid-19 para o nosso sistema de arquivos... nós os utilizaremos no decorrer das aulas!</pre>"
   ]
  },
  {
   "cell_type": "markdown",
   "id": "7626ec13-f9c5-40de-8486-8cb0ee9dfbdc",
   "metadata": {},
   "source": [
    "👉 dados de <a href='https://servicos-datasus.saude.gov.br/detalhe/CddynnsgE2'>imunização contra covid-19 no Brasil</a>"
   ]
  },
  {
   "cell_type": "markdown",
   "id": "9327024d-56e0-4adb-adbb-58fd5d96d736",
   "metadata": {
    "slideshow": {
     "slide_type": "subslide"
    }
   },
   "source": [
    "#### Função Auxiliar"
   ]
  },
  {
   "cell_type": "code",
   "execution_count": null,
   "id": "c5005e63-f64a-415d-a1db-330e20f78a4c",
   "metadata": {},
   "outputs": [
    {
     "name": "stdout",
     "output_type": "stream",
     "text": [
      "\n",
      "\u001b[1m[\u001b[0m\u001b[34;49mnotice\u001b[0m\u001b[1;39;49m]\u001b[0m\u001b[39;49m A new release of pip available: \u001b[0m\u001b[31;49m22.3.1\u001b[0m\u001b[39;49m -> \u001b[0m\u001b[32;49m23.2.1\u001b[0m\n",
      "\u001b[1m[\u001b[0m\u001b[34;49mnotice\u001b[0m\u001b[1;39;49m]\u001b[0m\u001b[39;49m To update, run: \u001b[0m\u001b[32;49mpython3.11 -m pip install --upgrade pip\u001b[0m\n"
     ]
    }
   ],
   "source": [
    "!pip install --upgrade elasticsearch --quiet"
   ]
  },
  {
   "cell_type": "code",
   "execution_count": null,
   "id": "e6a329e5-fae5-49a4-9d8f-9969bead8ef9",
   "metadata": {
    "slideshow": {
     "slide_type": "-"
    }
   },
   "outputs": [],
   "source": [
    "import os, json\n",
    "from elasticsearch import Elasticsearch"
   ]
  },
  {
   "cell_type": "code",
   "execution_count": null,
   "id": "5c3cf39b-6aff-4c0d-aabc-55c996d87807",
   "metadata": {
    "slideshow": {
     "slide_type": "-"
    }
   },
   "outputs": [],
   "source": [
    "def access_elasticsearch_and_save(url, filename):\n",
    "    folderpath = build_path()\n",
    "    filepath = os.path.join(folderpath, filename)\n",
    "    \n",
    "    es = Elasticsearch([{'scheme': 'https', 'host': url, 'port': 443}], \\\n",
    "                       basic_auth=('imunizacao_public', \n",
    "                                   'qlto5t&7r_@+#Tlstigi'),\n",
    "                       request_timeout=60)\n",
    "\n",
    "    #apenas cidades acima de 300k habitantes estão no índice\n",
    "    #quando consulta mais de 83 municípios, \n",
    "    #a API apresenta a exceção \"ApiError\"\n",
    "    \n",
    "    aggs = {\n",
    "        'Paciente_Estado' if 'estado' in filename else 'Paciente_Municipio': {\n",
    "            'terms': {'field': 'paciente_endereco_uf' if 'estado' in filename else 'paciente_endereco_coIbgeMunicipio', \n",
    "                      'min_doc_count': 1, \n",
    "                      'order': {'_count': 'desc'},\n",
    "                      'size': 27 if 'estados' in filename else 60},\n",
    "            'aggs': {\n",
    "                'Data_Aplicacao_Vacina': {\n",
    "                    'date_histogram': {'field': 'vacina_dataAplicacao', \n",
    "                                       'calendar_interval': 'day', \n",
    "                                       'min_doc_count': 1, \n",
    "                                       'order': {'_key': 'desc'}},\n",
    "                }\n",
    "            }\n",
    "        }\n",
    "    }\n",
    "\n",
    "    res = es.search(size = 0, aggs = aggs)\n",
    "\n",
    "    with open(filepath, mode='w') as jsonfile:\n",
    "        json.dump(res['aggregations'], jsonfile)"
   ]
  },
  {
   "cell_type": "markdown",
   "id": "7f71f23e-d2a2-4948-9d64-af4dfbb986b9",
   "metadata": {},
   "source": [
    "#### Código"
   ]
  },
  {
   "cell_type": "code",
   "execution_count": null,
   "id": "64b386a9-dd2e-4373-ac8d-9a7374107d7e",
   "metadata": {
    "slideshow": {
     "slide_type": "subslide"
    },
    "tags": []
   },
   "outputs": [],
   "source": [
    "access_elasticsearch_and_save('imunizacao-es.saude.gov.br', \n",
    "                              'estados_vacinacao.json')"
   ]
  },
  {
   "cell_type": "code",
   "execution_count": null,
   "id": "8798d35a-18f7-4bf9-a1f1-be77b87eb2af",
   "metadata": {
    "slideshow": {
     "slide_type": "-"
    }
   },
   "outputs": [],
   "source": [
    "access_elasticsearch_and_save('imunizacao-es.saude.gov.br', \n",
    "                              'municipios_vacinacao.json')"
   ]
  }
 ],
 "metadata": {
  "celltoolbar": "Slideshow",
  "kernelspec": {
   "display_name": "Python 3 (ipykernel)",
   "language": "python",
   "name": "python3"
  },
  "language_info": {
   "codemirror_mode": {
    "name": "ipython",
    "version": 3
   },
   "file_extension": ".py",
   "mimetype": "text/x-python",
   "name": "python",
   "nbconvert_exporter": "python",
   "pygments_lexer": "ipython3",
   "version": "3.11.6"
  },
  "toc": {
   "base_numbering": 1,
   "nav_menu": {},
   "number_sections": true,
   "sideBar": true,
   "skip_h1_title": false,
   "title_cell": "Table of Contents",
   "title_sidebar": "Contents",
   "toc_cell": false,
   "toc_position": {},
   "toc_section_display": true,
   "toc_window_display": false
  }
 },
 "nbformat": 4,
 "nbformat_minor": 5
}
