{
 "cells": [
  {
   "cell_type": "markdown",
   "id": "7b2aecab-482c-4a02-8ac8-1307456886c6",
   "metadata": {
    "slideshow": {
     "slide_type": "slide"
    },
    "tags": []
   },
   "source": [
    "# Juntando as Peças 🧩"
   ]
  },
  {
   "cell_type": "markdown",
   "id": "ca2924e7-035c-458f-ab17-df52a54f280e",
   "metadata": {
    "slideshow": {
     "slide_type": "-"
    },
    "tags": []
   },
   "source": [
    "## Desenvolvimento Web 🕸️ 💻 Low-Code para Ciência de Dados 👨🏽‍🔬"
   ]
  },
  {
   "cell_type": "markdown",
   "id": "de2a8d06-2683-464d-bf02-94621d346d91",
   "metadata": {
    "slideshow": {
     "slide_type": "-"
    },
    "tags": []
   },
   "source": [
    "### Biblioteca Principal 📚: <a href='https://plotly.com/python-api-reference/'>Plotly</a>"
   ]
  },
  {
   "cell_type": "markdown",
   "id": "fe032bf6-0cca-4426-89fb-66ccc1747ebd",
   "metadata": {
    "slideshow": {
     "slide_type": "-"
    }
   },
   "source": [
    "<img src=\"https://upload.wikimedia.org/wikipedia/commons/8/8a/Plotly-logo.png\" width=\"100\" style=\"float: right;\">"
   ]
  },
  {
   "cell_type": "code",
   "execution_count": 2,
   "id": "3d0e41b8-f13e-4de0-b081-cd6a1e923c46",
   "metadata": {
    "slideshow": {
     "slide_type": "-"
    }
   },
   "outputs": [],
   "source": [
    "#!pip install --upgrade plotly --quiet"
   ]
  },
  {
   "cell_type": "code",
   "execution_count": 3,
   "id": "d8574682",
   "metadata": {},
   "outputs": [],
   "source": [
    "#pip install --upgrade plotly pandas"
   ]
  },
  {
   "cell_type": "code",
   "execution_count": 4,
   "id": "17f2464f-f812-4482-9b86-4f60d67e05cd",
   "metadata": {
    "slideshow": {
     "slide_type": "-"
    }
   },
   "outputs": [],
   "source": [
    "import plotly.express as px\n",
    "import plotly.io as pio\n",
    "\n",
    "pio.renderers.default = 'iframe'"
   ]
  },
  {
   "cell_type": "markdown",
   "id": "ae9d09b0-e24e-47c4-bdff-0fd39a56a539",
   "metadata": {},
   "source": [
    "### Funções Auxiliares"
   ]
  },
  {
   "cell_type": "code",
   "execution_count": 5,
   "id": "e5c4bb49-af08-4ea6-8684-d99f9c9cb84a",
   "metadata": {},
   "outputs": [],
   "source": [
    "import os\n",
    "import pandas as pd\n",
    "\n",
    "def build_path(subfolder = 'merge'):\n",
    "    folderpath = os.path.join(os.getcwd(), os.pardir, \n",
    "                              'project', 'data', subfolder)\n",
    "    folderpath = os.path.abspath(folderpath)\n",
    "    if not os.path.exists(folderpath): \n",
    "        os.makedirs(folderpath)\n",
    "    return folderpath\n",
    "\n",
    "def load_data():\n",
    "    data = {}   \n",
    "    folderpath = build_path()\n",
    "    for filename in os.listdir(folderpath):\n",
    "        if filename.endswith('.json'):\n",
    "            filepath = os.path.join(build_path(), filename)\n",
    "            data[filename.split('.')[0]] = pd.read_json(filepath)\n",
    "    return data"
   ]
  },
  {
   "cell_type": "markdown",
   "id": "743f08bc-33c4-450b-a2f2-2ee71f81cbee",
   "metadata": {},
   "source": [
    "### Código"
   ]
  },
  {
   "cell_type": "code",
   "execution_count": 6,
   "id": "61e90a16-ba9c-46cc-b658-57e1aae63512",
   "metadata": {},
   "outputs": [],
   "source": [
    "data = load_data()"
   ]
  },
  {
   "cell_type": "code",
   "execution_count": 7,
   "id": "29976528-457a-44fa-ba54-1021b4575494",
   "metadata": {
    "slideshow": {
     "slide_type": "subslide"
    },
    "tags": []
   },
   "outputs": [
    {
     "data": {
      "text/html": [
       "<iframe\n",
       "    scrolling=\"no\"\n",
       "    width=\"100%\"\n",
       "    height=\"545px\"\n",
       "    src=\"iframe_figures/figure_7.html\"\n",
       "    frameborder=\"0\"\n",
       "    allowfullscreen\n",
       "></iframe>\n"
      ]
     },
     "metadata": {},
     "output_type": "display_data"
    }
   ],
   "source": [
    "data['state_vaccine_shot']['vacinacao_key'] = \\\n",
    "        pd.to_datetime(data['state_vaccine_shot']['vacinacao_key'], unit='ms', errors='ignore').dt.date\n",
    "\n",
    "fig = px.scatter_geo(data['state_vaccine_shot'], \n",
    "                     animation_frame='vacinacao_key', \n",
    "                     lat='latitude', \n",
    "                     lon='longitude',\n",
    "                     hover_name=\"nome\", \n",
    "                     size=\"vacinacao_doc_count\",\n",
    "                     scope='south america', \n",
    "                     title='Vacinação nas Unidades da Federação do Brasil')\n",
    "fig.show()"
   ]
  },
  {
   "cell_type": "code",
   "execution_count": 8,
   "id": "f8749fd4-4972-405a-8b37-5472676558b9",
   "metadata": {
    "slideshow": {
     "slide_type": "subslide"
    }
   },
   "outputs": [
    {
     "data": {
      "text/html": [
       "<iframe\n",
       "    scrolling=\"no\"\n",
       "    width=\"100%\"\n",
       "    height=\"545px\"\n",
       "    src=\"iframe_figures/figure_8.html\"\n",
       "    frameborder=\"0\"\n",
       "    allowfullscreen\n",
       "></iframe>\n"
      ]
     },
     "metadata": {},
     "output_type": "display_data"
    }
   ],
   "source": [
    "data['city_vaccine_shot']['vacinacao_key'] = \\\n",
    "        pd.to_datetime(data['city_vaccine_shot']['vacinacao_key'], unit='ms', errors='ignore').dt.date\n",
    "\n",
    "fig = px.scatter_geo(data['city_vaccine_shot'],\n",
    "                     animation_frame='vacinacao_key', \n",
    "                     lat='latitude', \n",
    "                     lon='longitude',\n",
    "                     hover_name=\"city\", \n",
    "                     size=\"vacinacao_doc_count\",\n",
    "                     scope='south america', \n",
    "                     title='Vacinação nos Municípios do Brasil')\n",
    "fig.show()"
   ]
  },
  {
   "cell_type": "code",
   "execution_count": 9,
   "id": "39bcd4ce-4f0a-4a38-a490-48ce3fdfc8a5",
   "metadata": {
    "slideshow": {
     "slide_type": "subslide"
    },
    "tags": []
   },
   "outputs": [
    {
     "data": {
      "text/html": [
       "<iframe\n",
       "    scrolling=\"no\"\n",
       "    width=\"100%\"\n",
       "    height=\"545px\"\n",
       "    src=\"iframe_figures/figure_9.html\"\n",
       "    frameborder=\"0\"\n",
       "    allowfullscreen\n",
       "></iframe>\n"
      ]
     },
     "metadata": {},
     "output_type": "display_data"
    }
   ],
   "source": [
    "data['city_infecction']['data'] = \\\n",
    "        pd.to_datetime(data['city_infecction']['data'], unit='ms', errors='ignore')\n",
    "\n",
    "fig = px.density_mapbox(data['city_infecction'],\n",
    "                        animation_frame='data', \n",
    "                        hover_name=\"city\", \n",
    "                        lat='latitude', \n",
    "                        lon='longitude',\n",
    "                        z=\"obitosNovos\",\n",
    "                        radius=10,\n",
    "                        center={'lat': -15.7975, 'lon': -47.8919}, #latitude/longitude de BSB\n",
    "                        zoom=2,\n",
    "                        mapbox_style=\"stamen-terrain\",\n",
    "                        title='Óbitos Decorrentes da Infecção por Sars-CoV-2')\n",
    "fig.show()"
   ]
  }
 ],
 "metadata": {
  "celltoolbar": "Slideshow",
  "kernelspec": {
   "display_name": "Python 3 (ipykernel)",
   "language": "python",
   "name": "python3"
  },
  "language_info": {
   "codemirror_mode": {
    "name": "ipython",
    "version": 3
   },
   "file_extension": ".py",
   "mimetype": "text/x-python",
   "name": "python",
   "nbconvert_exporter": "python",
   "pygments_lexer": "ipython3",
   "version": "3.11.6"
  },
  "toc": {
   "base_numbering": 1,
   "nav_menu": {},
   "number_sections": true,
   "sideBar": true,
   "skip_h1_title": false,
   "title_cell": "Table of Contents",
   "title_sidebar": "Contents",
   "toc_cell": false,
   "toc_position": {},
   "toc_section_display": true,
   "toc_window_display": false
  }
 },
 "nbformat": 4,
 "nbformat_minor": 5
}
