{
 "cells": [
  {
   "cell_type": "markdown",
   "id": "7467adbd-e90e-41b7-b0e4-4babe9462eba",
   "metadata": {
    "slideshow": {
     "slide_type": "slide"
    }
   },
   "source": [
    "# Juntando as Peças 🧩"
   ]
  },
  {
   "cell_type": "markdown",
   "id": "0977fb4c-62c9-47aa-9374-3138bc82f338",
   "metadata": {},
   "source": [
    "## HTTP(S) 🕸️ e Sistema de Arquivos 🗂️"
   ]
  },
  {
   "cell_type": "markdown",
   "id": "361a023a-8841-4bb5-884f-8100d8c9d0c8",
   "metadata": {
    "slideshow": {
     "slide_type": "subslide"
    }
   },
   "source": [
    "### Georreferenciamento"
   ]
  },
  {
   "cell_type": "markdown",
   "id": "4c0cc07d-ee97-4fd4-a607-3139a6469ffc",
   "metadata": {
    "slideshow": {
     "slide_type": "-"
    }
   },
   "source": [
    "<pre>Vamos baixar os dados de georreferenciamento de estados e municípios brasileiros para o nosso sistema de arquivos... nós os utilizaremos no decorrer das aulas!</pre>"
   ]
  },
  {
   "cell_type": "markdown",
   "id": "4b061af9-2e56-4f6e-a761-9a66ef1e05dd",
   "metadata": {
    "slideshow": {
     "slide_type": "-"
    }
   },
   "source": [
    "👉 dados de <a href='https://raw.githubusercontent.com/kelvins/Municipios-Brasileiros/main/csv/estados.csv'>georreferenciamento dos estados brasileiros</a>"
   ]
  },
  {
   "cell_type": "markdown",
   "id": "cc32df7b-9482-4383-b30e-5523b245ecca",
   "metadata": {
    "slideshow": {
     "slide_type": "-"
    }
   },
   "source": [
    "👉 dados de <a href='https://raw.githubusercontent.com/kelvins/Municipios-Brasileiros/main/csv/municipios.csv'>georreferenciamento dos municípios brasileiros</a>"
   ]
  },
  {
   "cell_type": "markdown",
   "id": "91e19423-4efc-43f4-8a8c-bb8ab0521707",
   "metadata": {
    "slideshow": {
     "slide_type": "subslide"
    }
   },
   "source": [
    "#### Funções Auxiliares"
   ]
  },
  {
   "cell_type": "code",
   "execution_count": 1,
   "id": "6f215426-0890-4f0a-bdff-0964b642e09e",
   "metadata": {
    "slideshow": {
     "slide_type": "-"
    },
    "tags": []
   },
   "outputs": [],
   "source": [
    "import os, requests\n",
    "\n",
    "def build_path(subfolder = 'raw'):\n",
    "    current_folder = os.getcwd()\n",
    "    folderpath = os.path.join(current_folder, os.pardir, 'project', 'data', subfolder)\n",
    "    folderpath = os.path.abspath(folderpath)\n",
    "    if not os.path.exists(folderpath): os.makedirs(folderpath)\n",
    "    return folderpath\n",
    "\n",
    "def read_file(url):\n",
    "    response = requests.get(url)\n",
    "\n",
    "    if response.status_code == 200:\n",
    "        content = response.content\n",
    "        return content\n",
    "\n",
    "def download_file_and_save(url, filename):\n",
    "    folderpath = build_path()\n",
    "    filepath = os.path.join(folderpath, filename)\n",
    "    \n",
    "    content = read_file(url)\n",
    "\n",
    "    if not os.path.exists(folderpath):\n",
    "        os.makedirs(folderpath)\n",
    "\n",
    "    with open(filepath, mode='wb') as file:\n",
    "        file.write(content)"
   ]
  },
  {
   "cell_type": "markdown",
   "id": "37c65ead-f1b1-4317-bd9a-12a7e8b1e8fe",
   "metadata": {},
   "source": [
    "#### Código"
   ]
  },
  {
   "cell_type": "code",
   "execution_count": 2,
   "id": "ab5a26aa-028a-4688-8450-8f6faccd0612",
   "metadata": {
    "slideshow": {
     "slide_type": "-"
    }
   },
   "outputs": [],
   "source": [
    "download_file_and_save(\n",
    "    'https://raw.githubusercontent.com/'+\n",
    "    'kelvins/Municipios-Brasileiros/main/csv/estados.csv',\n",
    "    'estados_georreferenciamento.csv')\n",
    "download_file_and_save(\n",
    "    'https://raw.githubusercontent.com/'+\n",
    "    'kelvins/Municipios-Brasileiros/main/csv/municipios.csv',\n",
    "    'municipios_georreferenciamento.csv')"
   ]
  },
  {
   "cell_type": "markdown",
   "id": "af322bb1-d9fe-4296-9fb2-22060918e443",
   "metadata": {
    "slideshow": {
     "slide_type": "-"
    },
    "tags": []
   },
   "source": [
    "### Código IBGE de Estado"
   ]
  },
  {
   "cell_type": "markdown",
   "id": "be806969",
   "metadata": {
    "slideshow": {
     "slide_type": "-"
    }
   },
   "source": [
    "👉 Lista de <a href='https://servicodados.ibge.gov.br/api/docs/'>API do IBGE</a>"
   ]
  },
  {
   "cell_type": "markdown",
   "id": "a4fdba09",
   "metadata": {
    "slideshow": {
     "slide_type": "-"
    }
   },
   "source": [
    "<pre>Vamos baixar os dados de códigos IBGE dos estados brasileiros... nós os utilizaremos no decorrer das aulas!</pre>"
   ]
  },
  {
   "cell_type": "markdown",
   "id": "a27a16e3-5cf6-4297-aa0e-fe0816cb64ad",
   "metadata": {
    "slideshow": {
     "slide_type": "subslide"
    }
   },
   "source": [
    "#### Funções Auxiliares"
   ]
  },
  {
   "cell_type": "code",
   "execution_count": 3,
   "id": "df866f96-d935-4606-ab3d-faf739ae3d9f",
   "metadata": {
    "slideshow": {
     "slide_type": "subslide"
    }
   },
   "outputs": [],
   "source": [
    "import json\n",
    "\n",
    "\"\"\"\n",
    "workaround para contornar a exceção: \\\n",
    "    SSLError: [SSL: UNSAFE_LEGACY_RENEGOTIATION_DISABLED] \\\n",
    "    unsafe legacy renegotiation disabled (_ssl.c:997)\n",
    "\n",
    "é possível considerando que estamos tratando apenas de dados públicos\n",
    "\"\"\"\n",
    "\n",
    "import requests, urllib3, ssl\n",
    "\n",
    "class CustomHttpAdapter (requests.adapters.HTTPAdapter):\n",
    "    def __init__(self, ssl_context=None, **kwargs):\n",
    "        self.ssl_context = ssl_context\n",
    "        super().__init__(**kwargs)\n",
    "    def init_poolmanager(self, connections, maxsize, block=False):\n",
    "        self.poolmanager = urllib3.poolmanager.PoolManager(\n",
    "            num_pools=connections, maxsize=maxsize,\n",
    "            block=block, ssl_context=self.ssl_context)\n",
    "\n",
    "def get_legacy_session():\n",
    "    ctx = ssl.create_default_context(ssl.Purpose.SERVER_AUTH)\n",
    "    ctx.options |= 0x4  # OP_LEGACY_SERVER_CONNECT\n",
    "    session = requests.session()\n",
    "    session.mount('https://', CustomHttpAdapter(ctx))\n",
    "    return session\n",
    "\n",
    "def access_api_and_save(url, filename):\n",
    "    response = get_legacy_session().get(url)\n",
    "\n",
    "    if response.status_code == 200:\n",
    "        content = response.json()\n",
    "        \n",
    "        folderpath = build_path()\n",
    "        filepath = os.path.join(folderpath, filename)\n",
    "        with open(filepath, mode='w') as jsonfile:\n",
    "            json.dump(content, jsonfile)"
   ]
  },
  {
   "cell_type": "markdown",
   "id": "2a60cdc5-0471-4037-8089-2bcea20236c2",
   "metadata": {},
   "source": [
    "#### Código"
   ]
  },
  {
   "cell_type": "code",
   "execution_count": 4,
   "id": "69201c71",
   "metadata": {
    "slideshow": {
     "slide_type": "-"
    }
   },
   "outputs": [],
   "source": [
    "access_api_and_save('https://servicodados.ibge.gov.br/'+\n",
    "                    'api/v1/localidades/estados', \n",
    "                    'estados_codigos.json')"
   ]
  },
  {
   "cell_type": "markdown",
   "id": "a3f512eb-dde5-4a4f-8925-b9cf93ccade1",
   "metadata": {
    "slideshow": {
     "slide_type": "slide"
    }
   },
   "source": [
    "## Aspectos de Banco de Dados 🏦 🎲"
   ]
  },
  {
   "cell_type": "markdown",
   "id": "cf609581-e562-4a68-84fa-6420e0d91232",
   "metadata": {
    "slideshow": {
     "slide_type": "subslide"
    }
   },
   "source": [
    "### Código IBGE de Município"
   ]
  },
  {
   "cell_type": "markdown",
   "id": "09ca5d12-50c0-43df-b2af-dee43186ed0c",
   "metadata": {
    "slideshow": {
     "slide_type": "-"
    }
   },
   "source": [
    "<pre>Vamos baixar os scripts de banco de dados para criar e popular a tabela de códigos IBGE dos municípios brasileiros... nós os utilizaremos no decorrer das aulas!</pre>"
   ]
  },
  {
   "cell_type": "markdown",
   "id": "bc8493f0-ffd8-45ac-a83a-10a782d23a88",
   "metadata": {
    "slideshow": {
     "slide_type": "-"
    }
   },
   "source": [
    "👉 script de banco de dados para <a href='https://raw.githubusercontent.com/andrebaltieri/ibge/main/SQLite/Schema.sql'>criar a estrutura da tabela</a> de código IBGE do Município"
   ]
  },
  {
   "cell_type": "markdown",
   "id": "2d54e970-25d8-4dd9-8594-a166b29346ea",
   "metadata": {
    "slideshow": {
     "slide_type": "-"
    }
   },
   "source": [
    "👉 script de banco de dados para <a href='https://raw.githubusercontent.com/andrebaltieri/ibge/main/SQLite/Data.sql'>popular a tabela</a> de código IBGE do Município"
   ]
  },
  {
   "cell_type": "markdown",
   "id": "df6899d8-c1de-4fad-a25a-e1ad451ad5bc",
   "metadata": {
    "slideshow": {
     "slide_type": "subslide"
    }
   },
   "source": [
    "#### Função Auxiliar"
   ]
  },
  {
   "cell_type": "code",
   "execution_count": 5,
   "id": "68a4c124-7d3f-4cfe-83f2-6aee2d15bc6a",
   "metadata": {
    "slideshow": {
     "slide_type": "-"
    },
    "tags": []
   },
   "outputs": [],
   "source": [
    "import sqlite3\n",
    "\n",
    "def execute_script(db_filename, sql_filename, delete_script=False):\n",
    "    folderpath = build_path()\n",
    "    dbpath = os.path.join(folderpath, db_filename)\n",
    "    sqlpath = os.path.join(folderpath, sql_filename)\n",
    "    \n",
    "    with sqlite3.connect(dbpath) as conn:\n",
    "        cursor = conn.cursor()\n",
    "\n",
    "    with open(sqlpath, encoding='utf8') as sqlfile:\n",
    "        script = sqlfile.read()\n",
    "\n",
    "    cursor = cursor.executescript(script)\n",
    "\n",
    "    conn.commit()\n",
    "    conn.close()\n",
    "    \n",
    "    if delete_script: os.remove(sqlpath)"
   ]
  },
  {
   "cell_type": "markdown",
   "id": "9fd5a9bf-310f-4cb1-9ec5-0b645b3fd172",
   "metadata": {},
   "source": [
    "#### Código"
   ]
  },
  {
   "cell_type": "code",
   "execution_count": 6,
   "id": "bb674e3a-cb5b-4371-8677-df24e7f19104",
   "metadata": {
    "slideshow": {
     "slide_type": "subslide"
    }
   },
   "outputs": [],
   "source": [
    "download_file_and_save('https://raw.githubusercontent.com/'+\n",
    "                       'andrebaltieri/ibge/main/SQLite/Schema.sql',\n",
    "                       'schema.sql')\n",
    "download_file_and_save('https://raw.githubusercontent.com/'+\n",
    "                       'andrebaltieri/ibge/main/SQLite/Data.sql',\n",
    "                       'data.sql')\n",
    "\n",
    "execute_script('municipios_codigos.db', 'schema.sql', \n",
    "               delete_script=True)\n",
    "execute_script('municipios_codigos.db', 'data.sql', \n",
    "               delete_script=True)"
   ]
  }
 ],
 "metadata": {
  "celltoolbar": "Slideshow",
  "kernelspec": {
   "display_name": "Python 3 (ipykernel)",
   "language": "python",
   "name": "python3"
  },
  "language_info": {
   "codemirror_mode": {
    "name": "ipython",
    "version": 3
   },
   "file_extension": ".py",
   "mimetype": "text/x-python",
   "name": "python",
   "nbconvert_exporter": "python",
   "pygments_lexer": "ipython3",
   "version": "3.11.6"
  },
  "toc": {
   "base_numbering": 1,
   "nav_menu": {},
   "number_sections": true,
   "sideBar": true,
   "skip_h1_title": false,
   "title_cell": "Table of Contents",
   "title_sidebar": "Contents",
   "toc_cell": false,
   "toc_position": {},
   "toc_section_display": true,
   "toc_window_display": false
  }
 },
 "nbformat": 4,
 "nbformat_minor": 5
}
