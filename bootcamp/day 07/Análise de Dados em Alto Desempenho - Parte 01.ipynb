{
 "cells": [
  {
   "cell_type": "markdown",
   "id": "21b7143c-702e-46aa-8a19-9d7a194673c2",
   "metadata": {
    "slideshow": {
     "slide_type": "slide"
    }
   },
   "source": [
    "# Análise de Dados 🕵🏽 🎲 em Alto Desempenho 🚀 🧞‍♂️"
   ]
  },
  {
   "cell_type": "markdown",
   "id": "654c608d-808f-44c3-90a0-468700721989",
   "metadata": {
    "slideshow": {
     "slide_type": "subslide"
    },
    "tags": []
   },
   "source": [
    "## Sumário da Aula"
   ]
  },
  {
   "cell_type": "markdown",
   "id": "5b1667af-6b6c-46b8-b573-4545807ee361",
   "metadata": {
    "slideshow": {
     "slide_type": "-"
    }
   },
   "source": [
    "<ul>\n",
    "    <li>Pandas 🐼</li>\n",
    "    <ul>\n",
    "        <li>Aspectos do Pandas 🐼</li>\n",
    "        <li>Series 🎞️</li>\n",
    "    </ul>\n",
    "</ul>"
   ]
  },
  {
   "cell_type": "markdown",
   "id": "77c52ca4-b2ca-4d96-831c-942f93121b28",
   "metadata": {
    "slideshow": {
     "slide_type": "slide"
    },
    "tags": []
   },
   "source": [
    "## Pandas 🐼"
   ]
  },
  {
   "cell_type": "markdown",
   "id": "c7dea01e-e9c7-42c8-adb0-78f5f84e8c65",
   "metadata": {
    "slideshow": {
     "slide_type": "-"
    },
    "tags": []
   },
   "source": [
    "### Biblioteca Principal 📚: pandas"
   ]
  },
  {
   "cell_type": "markdown",
   "id": "f0724d30-9465-420e-a535-0aa39eeb08ba",
   "metadata": {
    "slideshow": {
     "slide_type": "-"
    }
   },
   "source": [
    "<img src=\"https://pandas.pydata.org/docs/_static/pandas.svg\" width=\"100\" style=\"float: right;\">"
   ]
  },
  {
   "cell_type": "code",
   "execution_count": 1,
   "id": "e37c9feb-a5ef-411d-b386-87fe32c12fa9",
   "metadata": {
    "slideshow": {
     "slide_type": "-"
    }
   },
   "outputs": [
    {
     "name": "stderr",
     "output_type": "stream",
     "text": [
      "\n",
      "[notice] A new release of pip is available: 23.2.1 -> 23.3\n",
      "[notice] To update, run: python.exe -m pip install --upgrade pip\n"
     ]
    }
   ],
   "source": [
    "!pip install --upgrade pandas --quiet"
   ]
  },
  {
   "cell_type": "code",
   "execution_count": 2,
   "id": "e9880581-a67e-480b-bc53-9d6dba1e6791",
   "metadata": {
    "slideshow": {
     "slide_type": "-"
    }
   },
   "outputs": [],
   "source": [
    "import pandas as pd"
   ]
  },
  {
   "cell_type": "markdown",
   "id": "104a797b-b23b-4732-826f-be23a5c3bc79",
   "metadata": {
    "slideshow": {
     "slide_type": "subslide"
    },
    "tags": []
   },
   "source": [
    "### Aspectos do Pandas 🐼"
   ]
  },
  {
   "cell_type": "markdown",
   "id": "45d82c0c-df1a-44ca-9953-2265f4710d0b",
   "metadata": {
    "slideshow": {
     "slide_type": "-"
    }
   },
   "source": [
    "<ul>\n",
    "    <li>Análise de Dados 🕵🏽 🎲 em Alto Desempenho 🚀 🧞‍♂️</li>\n",
    "    <li>Frequentemente utilizado com bibliotecas:\n",
    "        <ul>\n",
    "            <li>de computação numérica, e.g. NumPy, SciPy;</li>\n",
    "            <li>analíticas, e.g. como statsmodels e scikit-learn</li>\n",
    "            <li>de visualização de dados, e.g. matplotlib e seaborn.</li>\n",
    "        </ul>\n",
    "    </li>\n",
    "    <li>Adota o estilo idiomático de Computação Vetorizada 🧮 do NumPy, especialmente:\n",
    "        <ul>\n",
    "            <li>função baseada em vetores (<i>arrays</i>)</li>\n",
    "            <li>preferência por processamento de dados sem laços <i>for</i></li>\n",
    "        </ul>\n",
    "    </li>\n",
    "    <li>No entanto, há uma diferença significativa:\n",
    "        <ul>\n",
    "            <li>Pandas é desenhado para trabalhar com dados tabulares e heterogêneos; e</li>\n",
    "            <li>NumPy é desenhado para trabalhar com dados numéricos homogêneos.</li>\n",
    "        </ul>\n",
    "    </li>\n",
    "    <li>É maduro, aplicável em um vasto cenário de casos de usos reais e tem uma comunidade com mais de 2500 colaboradores</li>\n",
    "</ul>"
   ]
  },
  {
   "cell_type": "markdown",
   "id": "bcaaeae1-50b8-433d-86b2-3e59d86f636e",
   "metadata": {
    "slideshow": {
     "slide_type": "subslide"
    }
   },
   "source": [
    "<img src=\"https://www.w3resource.com/w3r_images/pandas-series-image.svg\" style=\"margin-left: auto; margin-right: auto;\">"
   ]
  },
  {
   "cell_type": "markdown",
   "id": "1d9f035e-3ce7-4c75-b1f6-3e803326a251",
   "metadata": {
    "slideshow": {
     "slide_type": "-"
    }
   },
   "source": [
    "👉 Referência: <a href='https://pandas.pydata.org/'>pandas.pydata.org</a>"
   ]
  },
  {
   "cell_type": "markdown",
   "id": "5b76be5f-319f-4f46-8fdf-9c732b82621e",
   "metadata": {
    "slideshow": {
     "slide_type": "-"
    }
   },
   "source": [
    "👉 Pandas <a href='https://pandas.pydata.org/Pandas_Cheat_Sheet.pdf'>cheat sheet</a>"
   ]
  },
  {
   "cell_type": "markdown",
   "id": "7d840034-5262-46e2-9c47-76dc0c482c4d",
   "metadata": {
    "slideshow": {
     "slide_type": "slide"
    },
    "tags": []
   },
   "source": [
    "### Series 🎞️"
   ]
  },
  {
   "cell_type": "markdown",
   "id": "42dd8567-4f87-4d1d-b37b-994d4d575f04",
   "metadata": {
    "slideshow": {
     "slide_type": "-"
    }
   },
   "source": [
    "<ul>\n",
    "    <li>Objeto de <b>uma</b> dimensão (semelhante ao vetor - <i>array</i>) e equivalente ao <b>1D ndarray</b> do NumPy</li>\n",
    "    <ul>\n",
    "        <li>contém uma sequência de valores; e</li>\n",
    "        <li>um vetor (<i>array</i>) de rótulos chamado de índice (<i>index</i>)</li>\n",
    "    </ul>\n",
    "</ul>"
   ]
  },
  {
   "cell_type": "markdown",
   "id": "6efefdd4-bbc4-4450-822b-e6df73d06c6e",
   "metadata": {
    "slideshow": {
     "slide_type": "-"
    }
   },
   "source": [
    "👉 Referência: <a href='https://pandas.pydata.org/docs/reference/api/pandas.Series.html'>pandas.Series</a>"
   ]
  },
  {
   "cell_type": "markdown",
   "id": "3b427b54-dee8-4c79-8e0e-dc05969c8d4d",
   "metadata": {
    "slideshow": {
     "slide_type": "subslide"
    },
    "tags": []
   },
   "source": [
    "<pre>Você pode criar uma Series com a sequência de valores -- <u>sem</u> o vetor (<i>array</i>) de índices</pre>"
   ]
  },
  {
   "cell_type": "code",
   "execution_count": 3,
   "id": "cfb04be7-326b-4122-ac5d-ae0e731f5b55",
   "metadata": {
    "slideshow": {
     "slide_type": "-"
    }
   },
   "outputs": [
    {
     "data": {
      "text/plain": [
       "0     6797\n",
       "1    63123\n",
       "2     8476\n",
       "dtype: int64"
      ]
     },
     "execution_count": 3,
     "metadata": {},
     "output_type": "execute_result"
    }
   ],
   "source": [
    "# Exemplo: Uma série com o PIB de países\n",
    "# (Pib per capta - anual em dólares)\n",
    "\n",
    "pd.Series([6797, 63123, 8476])"
   ]
  },
  {
   "cell_type": "markdown",
   "id": "06eaacb7-6a53-4841-aebe-73a1f40a0e30",
   "metadata": {
    "slideshow": {
     "slide_type": "-"
    }
   },
   "source": [
    "<pre>... ou com a sequência de valores -- e <u>com</u> o vetor (<i>array</i>) de índices -- com listas</pre>"
   ]
  },
  {
   "cell_type": "code",
   "execution_count": 4,
   "id": "ffdc4049-1103-4ae4-985b-d3992c3c0c18",
   "metadata": {
    "slideshow": {
     "slide_type": "-"
    }
   },
   "outputs": [
    {
     "data": {
      "text/plain": [
       "Brasil        6797\n",
       "EUA          63123\n",
       "Argentina     8476\n",
       "dtype: int64"
      ]
     },
     "execution_count": 4,
     "metadata": {},
     "output_type": "execute_result"
    }
   ],
   "source": [
    "# Quero inserir o indice para as linhas \n",
    "# (para saber qual país possui qual PIB_pc)\n",
    "pd.Series(data=[6797, 63123, 8476], \n",
    "          index=['Brasil', 'EUA', 'Argentina'])"
   ]
  },
  {
   "cell_type": "markdown",
   "id": "9d1a9b2e-b14d-4aea-a5c7-a73f6a60b1c9",
   "metadata": {
    "slideshow": {
     "slide_type": "subslide"
    }
   },
   "source": [
    "<pre>... ou com a sequência de valores -- e <u>com</u> o vetor (<i>array</i>) de índices -- como dicionário...</pre>"
   ]
  },
  {
   "cell_type": "code",
   "execution_count": 5,
   "id": "64cee0d1-95ac-4280-a742-a612d3917b7c",
   "metadata": {
    "slideshow": {
     "slide_type": "-"
    }
   },
   "outputs": [
    {
     "data": {
      "text/plain": [
       "Brasil        6797\n",
       "EUA          63123\n",
       "Argentina     8476\n",
       "dtype: int64"
      ]
     },
     "execution_count": 5,
     "metadata": {},
     "output_type": "execute_result"
    }
   ],
   "source": [
    "pd.Series({'Brasil': 6797, 'EUA': 63123, 'Argentina': 8476})\n"
   ]
  },
  {
   "cell_type": "markdown",
   "id": "30d1343d-0ab1-498b-8d86-a2ddaf677487",
   "metadata": {
    "slideshow": {
     "slide_type": "-"
    }
   },
   "source": [
    "<pre>... e ainda especificar separadamente o vetor (<i>array</i>) de índices</pre>"
   ]
  },
  {
   "cell_type": "markdown",
   "id": "c99da809-ea12-43d4-8e40-f7d57f109be2",
   "metadata": {
    "slideshow": {
     "slide_type": "-"
    }
   },
   "source": [
    "👉 dica: o vetor (<i>array</i>) de índices especificado separadamente pode ser diferente dos índices do dicionário !"
   ]
  },
  {
   "cell_type": "code",
   "execution_count": 6,
   "id": "cd023333-3037-4509-a5c1-50748eeb9ad5",
   "metadata": {
    "slideshow": {
     "slide_type": "-"
    }
   },
   "outputs": [
    {
     "data": {
      "text/plain": [
       "Brasil        6797.0\n",
       "EUA          63123.0\n",
       "Canada           NaN\n",
       "Argentina     8476.0\n",
       "dtype: float64"
      ]
     },
     "execution_count": 6,
     "metadata": {},
     "output_type": "execute_result"
    }
   ],
   "source": [
    "pd.Series({'Brasil': 6797, 'EUA': 63123, 'Argentina': 8476}, \n",
    "          index=['Brasil', 'EUA', 'Canada', 'Argentina'])"
   ]
  },
  {
   "cell_type": "markdown",
   "id": "89d6df9f-3eb1-4710-a81e-c8fd614c6c67",
   "metadata": {
    "slideshow": {
     "slide_type": "subslide"
    }
   },
   "source": [
    "<pre>Você pode utilizar o índice para acessar o valor</pre>"
   ]
  },
  {
   "cell_type": "markdown",
   "id": "7d10d7f8-fbd6-4351-9737-fe2ff2536ad3",
   "metadata": {
    "slideshow": {
     "slide_type": "-"
    }
   },
   "source": [
    "👉  dica: usar em contextos onde um dicionário seria utilizado"
   ]
  },
  {
   "cell_type": "code",
   "execution_count": 7,
   "id": "ba5d3664-4e11-4392-9908-48eaac37e3bd",
   "metadata": {
    "slideshow": {
     "slide_type": "-"
    }
   },
   "outputs": [],
   "source": [
    "pibpc = pd.Series({'Brasil': 6797, 'EUA': 63123, 'Argentina': 8476})\n"
   ]
  },
  {
   "cell_type": "code",
   "execution_count": 8,
   "id": "d4d76773-2319-4c33-8ed3-ad9d74a7af7d",
   "metadata": {
    "slideshow": {
     "slide_type": "-"
    }
   },
   "outputs": [
    {
     "data": {
      "text/plain": [
       "6797"
      ]
     },
     "execution_count": 8,
     "metadata": {},
     "output_type": "execute_result"
    }
   ],
   "source": [
    "pibpc['Brasil']"
   ]
  },
  {
   "cell_type": "code",
   "execution_count": 9,
   "id": "be15478c-da5e-43d1-9bbd-091d4d0041c3",
   "metadata": {
    "slideshow": {
     "slide_type": "-"
    }
   },
   "outputs": [
    {
     "data": {
      "text/plain": [
       "8000"
      ]
     },
     "execution_count": 9,
     "metadata": {},
     "output_type": "execute_result"
    }
   ],
   "source": [
    "pibpc['Argentina'] = 8000\n",
    "pibpc['Argentina']"
   ]
  },
  {
   "cell_type": "code",
   "execution_count": 10,
   "id": "7c5f4feb-bf4f-4b0a-a0c6-bf01dba17cea",
   "metadata": {
    "slideshow": {
     "slide_type": "-"
    }
   },
   "outputs": [
    {
     "data": {
      "text/plain": [
       "Argentina     8000\n",
       "EUA          63123\n",
       "dtype: int64"
      ]
     },
     "execution_count": 10,
     "metadata": {},
     "output_type": "execute_result"
    }
   ],
   "source": [
    "pibpc[['Argentina', 'EUA']]"
   ]
  },
  {
   "cell_type": "markdown",
   "id": "725ebb8d-cd5f-4843-95c0-bf127431d979",
   "metadata": {
    "slideshow": {
     "slide_type": "subslide"
    }
   },
   "source": [
    "<pre>Você pode verificar se um elemento pertence ao <b>índice</b> de uma Serie com a palavra reservada <b>in</b></pre>"
   ]
  },
  {
   "cell_type": "code",
   "execution_count": 11,
   "id": "17ebedcb-82ba-47e6-a56c-0296a861a990",
   "metadata": {
    "slideshow": {
     "slide_type": "-"
    }
   },
   "outputs": [
    {
     "data": {
      "text/plain": [
       "True"
      ]
     },
     "execution_count": 11,
     "metadata": {},
     "output_type": "execute_result"
    }
   ],
   "source": [
    "'Brasil' in pibpc"
   ]
  },
  {
   "cell_type": "code",
   "execution_count": 12,
   "id": "b34a7747-42d8-451f-8201-eb487ef204c0",
   "metadata": {
    "slideshow": {
     "slide_type": "-"
    }
   },
   "outputs": [
    {
     "data": {
      "text/plain": [
       "False"
      ]
     },
     "execution_count": 12,
     "metadata": {},
     "output_type": "execute_result"
    }
   ],
   "source": [
    "'Uruguai' in pibpc"
   ]
  },
  {
   "cell_type": "markdown",
   "id": "309ee242-58d4-425d-a0a7-7958adf9e3a3",
   "metadata": {
    "slideshow": {
     "slide_type": "subslide"
    }
   },
   "source": [
    "<pre>Você pode utilizar as operações do NumPy em uma Series</pre>"
   ]
  },
  {
   "cell_type": "markdown",
   "id": "a1be344a-ec66-4684-939d-a7d3749e4df0",
   "metadata": {
    "slideshow": {
     "slide_type": "-"
    }
   },
   "source": [
    "(exemplo 1) filtro com um vetor de booleanos"
   ]
  },
  {
   "cell_type": "code",
   "execution_count": 13,
   "id": "3f515b2a-bf49-4c31-b44d-45fd6217cf35",
   "metadata": {
    "slideshow": {
     "slide_type": "-"
    }
   },
   "outputs": [
    {
     "data": {
      "text/plain": [
       "EUA          63123\n",
       "Argentina     8000\n",
       "dtype: int64"
      ]
     },
     "execution_count": 13,
     "metadata": {},
     "output_type": "execute_result"
    }
   ],
   "source": [
    "pibpc[pibpc > 7000]"
   ]
  },
  {
   "cell_type": "markdown",
   "id": "0b684af2-5df6-4af1-9f51-12054a57852a",
   "metadata": {
    "slideshow": {
     "slide_type": "-"
    }
   },
   "source": [
    "(exemplo 2) operacão com escalar"
   ]
  },
  {
   "cell_type": "code",
   "execution_count": 14,
   "id": "d7959f1c-7a20-4b20-a5d0-df91c7c06e73",
   "metadata": {
    "slideshow": {
     "slide_type": "-"
    }
   },
   "outputs": [
    {
     "data": {
      "text/plain": [
       "Brasil        6.797\n",
       "EUA          63.123\n",
       "Argentina     8.000\n",
       "dtype: float64"
      ]
     },
     "execution_count": 14,
     "metadata": {},
     "output_type": "execute_result"
    }
   ],
   "source": [
    "# pib pc em milhares\n",
    "pibpc/1000"
   ]
  },
  {
   "cell_type": "markdown",
   "id": "e29b0a0a-d9d5-440f-9158-00810e59f37c",
   "metadata": {
    "slideshow": {
     "slide_type": "-"
    }
   },
   "source": [
    "(exemplo 3) função matemática"
   ]
  },
  {
   "cell_type": "code",
   "execution_count": 15,
   "id": "cee8610e-89e5-4171-8a80-25db29c59a9f",
   "metadata": {
    "slideshow": {
     "slide_type": "-"
    }
   },
   "outputs": [
    {
     "data": {
      "text/plain": [
       "77920"
      ]
     },
     "execution_count": 15,
     "metadata": {},
     "output_type": "execute_result"
    }
   ],
   "source": [
    "pibpc.sum()"
   ]
  },
  {
   "cell_type": "markdown",
   "id": "64526327-16e9-4890-b746-76b0746c4b7b",
   "metadata": {
    "slideshow": {
     "slide_type": "subslide"
    }
   },
   "source": [
    "<pre>Você pode verificar quais valores são ausentes/indisponíveis (<i>NA</i>) e quais não são em uma Series</pre>"
   ]
  },
  {
   "cell_type": "code",
   "execution_count": 16,
   "id": "00e86936-151f-4f08-afe3-89dd1edd4d56",
   "metadata": {
    "slideshow": {
     "slide_type": "-"
    }
   },
   "outputs": [
    {
     "data": {
      "text/plain": [
       "California        NaN\n",
       "Ohio          35000.0\n",
       "Oregon        16000.0\n",
       "Texas         71000.0\n",
       "dtype: float64"
      ]
     },
     "execution_count": 16,
     "metadata": {},
     "output_type": "execute_result"
    }
   ],
   "source": [
    "s2 = pd.Series({\"Ohio\": 35000, \"Texas\": 71000, \n",
    "                \"Oregon\": 16000, \"Utah\": 5000}, \n",
    "               index=[\"California\", \"Ohio\", \"Oregon\", \"Texas\"])\n",
    "s2"
   ]
  },
  {
   "cell_type": "code",
   "execution_count": 17,
   "id": "17a04735-3684-4cb1-9440-d01783d42ce5",
   "metadata": {
    "slideshow": {
     "slide_type": "-"
    }
   },
   "outputs": [
    {
     "data": {
      "text/plain": [
       "California     True\n",
       "Ohio          False\n",
       "Oregon        False\n",
       "Texas         False\n",
       "dtype: bool"
      ]
     },
     "execution_count": 17,
     "metadata": {},
     "output_type": "execute_result"
    }
   ],
   "source": [
    "pd.isna(s2)"
   ]
  },
  {
   "cell_type": "code",
   "execution_count": 18,
   "id": "049150c7-8e76-4cdf-93f0-f1fa59d637b9",
   "metadata": {
    "slideshow": {
     "slide_type": "subslide"
    }
   },
   "outputs": [
    {
     "data": {
      "text/plain": [
       "California    False\n",
       "Ohio           True\n",
       "Oregon         True\n",
       "Texas          True\n",
       "dtype: bool"
      ]
     },
     "execution_count": 18,
     "metadata": {},
     "output_type": "execute_result"
    }
   ],
   "source": [
    "pd.notna(s2)"
   ]
  },
  {
   "cell_type": "code",
   "execution_count": 19,
   "id": "bba218cb-5ac6-4573-ba0f-8699b1b7260e",
   "metadata": {
    "slideshow": {
     "slide_type": "-"
    }
   },
   "outputs": [
    {
     "data": {
      "text/plain": [
       "California     True\n",
       "Ohio          False\n",
       "Oregon        False\n",
       "Texas         False\n",
       "dtype: bool"
      ]
     },
     "execution_count": 19,
     "metadata": {},
     "output_type": "execute_result"
    }
   ],
   "source": [
    "s2.isna()"
   ]
  },
  {
   "cell_type": "markdown",
   "id": "38d6f1e1-70c7-4f1e-888b-b70438ef36c6",
   "metadata": {
    "slideshow": {
     "slide_type": "subslide"
    }
   },
   "source": [
    "<pre>Você pode automaticamente alinhar os valores correspondentes ao mesmo índice por meio da operação de soma</pre>"
   ]
  },
  {
   "cell_type": "code",
   "execution_count": 20,
   "id": "6b41742b-f6de-4530-9010-cc0deaab1e4a",
   "metadata": {
    "slideshow": {
     "slide_type": "-"
    }
   },
   "outputs": [],
   "source": [
    "s3 = pd.Series({\"Ohio\": 35000, \"Texas\": 71000, \"Oregon\": 16000, \n",
    "                \"Utah\": 5000})"
   ]
  },
  {
   "cell_type": "code",
   "execution_count": 21,
   "id": "7c367547-49d1-41ea-92c5-f83aa3de699c",
   "metadata": {
    "slideshow": {
     "slide_type": "-"
    }
   },
   "outputs": [
    {
     "data": {
      "text/plain": [
       "California        NaN\n",
       "Ohio          35000.0\n",
       "Oregon        16000.0\n",
       "Texas         71000.0\n",
       "dtype: float64"
      ]
     },
     "execution_count": 21,
     "metadata": {},
     "output_type": "execute_result"
    }
   ],
   "source": [
    "s2"
   ]
  },
  {
   "cell_type": "code",
   "execution_count": 22,
   "id": "37eb9e30-d2e4-45cb-a6eb-52bd69cc3453",
   "metadata": {
    "slideshow": {
     "slide_type": "-"
    }
   },
   "outputs": [
    {
     "data": {
      "text/plain": [
       "Ohio      35000\n",
       "Texas     71000\n",
       "Oregon    16000\n",
       "Utah       5000\n",
       "dtype: int64"
      ]
     },
     "execution_count": 22,
     "metadata": {},
     "output_type": "execute_result"
    }
   ],
   "source": [
    "s3"
   ]
  },
  {
   "cell_type": "code",
   "execution_count": 23,
   "id": "7bc6e9dc-12bd-4f67-a638-55b497c7f00e",
   "metadata": {
    "slideshow": {
     "slide_type": "-"
    }
   },
   "outputs": [
    {
     "data": {
      "text/plain": [
       "California         NaN\n",
       "Ohio           70000.0\n",
       "Oregon         32000.0\n",
       "Texas         142000.0\n",
       "Utah               NaN\n",
       "dtype: float64"
      ]
     },
     "execution_count": 23,
     "metadata": {},
     "output_type": "execute_result"
    }
   ],
   "source": [
    "s2 + s3"
   ]
  },
  {
   "cell_type": "markdown",
   "id": "914e60ee-fa64-45e4-a602-b66c7cddef77",
   "metadata": {
    "slideshow": {
     "slide_type": "subslide"
    }
   },
   "source": [
    "<pre>Você pode atribuir nomes aos índices, à Serie e aos elementos do índice</pre>"
   ]
  },
  {
   "cell_type": "code",
   "execution_count": 24,
   "id": "d3e092bf-e4a9-479e-9db4-2d9dc8705cd4",
   "metadata": {
    "slideshow": {
     "slide_type": "-"
    }
   },
   "outputs": [
    {
     "data": {
      "text/plain": [
       "California        NaN\n",
       "Ohio          35000.0\n",
       "Oregon        16000.0\n",
       "Texas         71000.0\n",
       "dtype: float64"
      ]
     },
     "execution_count": 24,
     "metadata": {},
     "output_type": "execute_result"
    }
   ],
   "source": [
    "s2"
   ]
  },
  {
   "cell_type": "code",
   "execution_count": 25,
   "id": "88a6ad0e-8f82-49f8-9e96-694f37dd16e9",
   "metadata": {
    "slideshow": {
     "slide_type": "-"
    }
   },
   "outputs": [
    {
     "data": {
      "text/plain": [
       "state\n",
       "California        NaN\n",
       "Ohio          35000.0\n",
       "Oregon        16000.0\n",
       "Texas         71000.0\n",
       "Name: population, dtype: float64"
      ]
     },
     "execution_count": 25,
     "metadata": {},
     "output_type": "execute_result"
    }
   ],
   "source": [
    "s2.name = 'population'\n",
    "s2.index = ['California', 'Ohio', 'Oregon', 'Texas']\n",
    "s2.index.name = 'state'\n",
    "s2"
   ]
  },
  {
   "cell_type": "markdown",
   "id": "de5322b3-6495-417b-b579-9c47eb170f26",
   "metadata": {
    "slideshow": {
     "slide_type": "subslide"
    }
   },
   "source": [
    "<pre>Você pode remover uma entrada da Serie</pre>"
   ]
  },
  {
   "cell_type": "code",
   "execution_count": 26,
   "id": "6ac989bd-05d6-4ff5-a7c4-7b1bacb51ae9",
   "metadata": {
    "slideshow": {
     "slide_type": "-"
    }
   },
   "outputs": [
    {
     "data": {
      "text/plain": [
       "state\n",
       "Ohio      35000.0\n",
       "Oregon    16000.0\n",
       "Texas     71000.0\n",
       "Name: population, dtype: float64"
      ]
     },
     "execution_count": 26,
     "metadata": {},
     "output_type": "execute_result"
    }
   ],
   "source": [
    "s2 = s2.drop('California')\n",
    "s2"
   ]
  }
 ],
 "metadata": {
  "celltoolbar": "Slideshow",
  "kernelspec": {
   "display_name": "Python 3 (ipykernel)",
   "language": "python",
   "name": "python3"
  },
  "language_info": {
   "codemirror_mode": {
    "name": "ipython",
    "version": 3
   },
   "file_extension": ".py",
   "mimetype": "text/x-python",
   "name": "python",
   "nbconvert_exporter": "python",
   "pygments_lexer": "ipython3",
   "version": "3.11.6"
  },
  "toc": {
   "base_numbering": 1,
   "nav_menu": {},
   "number_sections": true,
   "sideBar": true,
   "skip_h1_title": false,
   "title_cell": "Table of Contents",
   "title_sidebar": "Contents",
   "toc_cell": false,
   "toc_position": {},
   "toc_section_display": true,
   "toc_window_display": false
  }
 },
 "nbformat": 4,
 "nbformat_minor": 5
}
